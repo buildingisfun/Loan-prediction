{
  "nbformat": 4,
  "nbformat_minor": 0,
  "metadata": {
    "colab": {
      "name": "LOAN PREDICTION.ipynb",
      "provenance": [],
      "collapsed_sections": [],
      "toc_visible": true
    },
    "kernelspec": {
      "display_name": "Python 3",
      "language": "python",
      "name": "python3"
    },
    "language_info": {
      "codemirror_mode": {
        "name": "ipython",
        "version": 3
      },
      "file_extension": ".py",
      "mimetype": "text/x-python",
      "name": "python",
      "nbconvert_exporter": "python",
      "pygments_lexer": "ipython3",
      "version": "3.7.3"
    }
  },
  "cells": [
    {
      "cell_type": "code",
      "metadata": {
        "id": "FIGB1i4jX0HX"
      },
      "source": [
        "import numpy as np\n",
        "import pandas as pd\n",
        "import matplotlib.pyplot as plt\n",
        "import seaborn as sns\n",
        "from scipy import stats\n",
        "from sklearn.preprocessing import minmax_scale\n",
        "from sklearn.model_selection import train_test_split\n",
        "from xgboost import XGBClassifier\n",
        "from sklearn.metrics import classification_report, confusion_matrix\n",
        "from sklearn.metrics import mean_absolute_error\n",
        "from sklearn.ensemble import RandomForestClassifier\n",
        "from sklearn.ensemble import AdaBoostClassifier\n",
        "import pickle\n",
        "%matplotlib inline"
      ],
      "execution_count": null,
      "outputs": []
    },
    {
      "cell_type": "code",
      "metadata": {
        "id": "VY9V3Tckeioz"
      },
      "source": [
        "from google.colab import drive\n",
        "drive.mount('/content/drive')"
      ],
      "execution_count": null,
      "outputs": []
    },
    {
      "cell_type": "code",
      "metadata": {
        "colab": {
          "base_uri": "https://localhost:8080/"
        },
        "id": "Lg7nghZDenGg",
        "outputId": "99cde91b-af6d-4851-f663-7b53185e0ac9"
      },
      "source": [
        "!ls"
      ],
      "execution_count": null,
      "outputs": [
        {
          "output_type": "stream",
          "text": [
            "drive  sample_data  submission1.csv  submission2.csv\n"
          ],
          "name": "stdout"
        }
      ]
    },
    {
      "cell_type": "code",
      "metadata": {
        "id": "DLSETA_VX0HY"
      },
      "source": [
        "testdata=pd.read_csv(\"drive/MyDrive/Colab Notebooks/test_lAUu6dG.csv\")"
      ],
      "execution_count": null,
      "outputs": []
    },
    {
      "cell_type": "code",
      "metadata": {
        "id": "V-2dUrZdX0HY"
      },
      "source": [
        "data=pd.read_csv(\"drive/MyDrive/Colab Notebooks/train_ctrUa4K.csv\")"
      ],
      "execution_count": null,
      "outputs": []
    },
    {
      "cell_type": "code",
      "metadata": {
        "colab": {
          "base_uri": "https://localhost:8080/"
        },
        "id": "dAxDVKVUX0Hb",
        "outputId": "847e6ca9-3d05-4238-a6cb-efaf8f462b84"
      },
      "source": [
        "data.shape"
      ],
      "execution_count": null,
      "outputs": [
        {
          "output_type": "execute_result",
          "data": {
            "text/plain": [
              "(614, 13)"
            ]
          },
          "metadata": {
            "tags": []
          },
          "execution_count": 87
        }
      ]
    },
    {
      "cell_type": "code",
      "metadata": {
        "colab": {
          "base_uri": "https://localhost:8080/",
          "height": 194
        },
        "id": "WmZouC_JX0Hc",
        "outputId": "846c701d-bb0c-45ed-9ade-f295d20bd12e"
      },
      "source": [
        "data.head()"
      ],
      "execution_count": null,
      "outputs": [
        {
          "output_type": "execute_result",
          "data": {
            "text/html": [
              "<div>\n",
              "<style scoped>\n",
              "    .dataframe tbody tr th:only-of-type {\n",
              "        vertical-align: middle;\n",
              "    }\n",
              "\n",
              "    .dataframe tbody tr th {\n",
              "        vertical-align: top;\n",
              "    }\n",
              "\n",
              "    .dataframe thead th {\n",
              "        text-align: right;\n",
              "    }\n",
              "</style>\n",
              "<table border=\"1\" class=\"dataframe\">\n",
              "  <thead>\n",
              "    <tr style=\"text-align: right;\">\n",
              "      <th></th>\n",
              "      <th>Loan_ID</th>\n",
              "      <th>Gender</th>\n",
              "      <th>Married</th>\n",
              "      <th>Dependents</th>\n",
              "      <th>Education</th>\n",
              "      <th>Self_Employed</th>\n",
              "      <th>ApplicantIncome</th>\n",
              "      <th>CoapplicantIncome</th>\n",
              "      <th>LoanAmount</th>\n",
              "      <th>Loan_Amount_Term</th>\n",
              "      <th>Credit_History</th>\n",
              "      <th>Property_Area</th>\n",
              "      <th>Loan_Status</th>\n",
              "    </tr>\n",
              "  </thead>\n",
              "  <tbody>\n",
              "    <tr>\n",
              "      <th>0</th>\n",
              "      <td>LP001002</td>\n",
              "      <td>Male</td>\n",
              "      <td>No</td>\n",
              "      <td>0</td>\n",
              "      <td>Graduate</td>\n",
              "      <td>No</td>\n",
              "      <td>5849</td>\n",
              "      <td>0.0</td>\n",
              "      <td>NaN</td>\n",
              "      <td>360.0</td>\n",
              "      <td>1.0</td>\n",
              "      <td>Urban</td>\n",
              "      <td>Y</td>\n",
              "    </tr>\n",
              "    <tr>\n",
              "      <th>1</th>\n",
              "      <td>LP001003</td>\n",
              "      <td>Male</td>\n",
              "      <td>Yes</td>\n",
              "      <td>1</td>\n",
              "      <td>Graduate</td>\n",
              "      <td>No</td>\n",
              "      <td>4583</td>\n",
              "      <td>1508.0</td>\n",
              "      <td>128.0</td>\n",
              "      <td>360.0</td>\n",
              "      <td>1.0</td>\n",
              "      <td>Rural</td>\n",
              "      <td>N</td>\n",
              "    </tr>\n",
              "    <tr>\n",
              "      <th>2</th>\n",
              "      <td>LP001005</td>\n",
              "      <td>Male</td>\n",
              "      <td>Yes</td>\n",
              "      <td>0</td>\n",
              "      <td>Graduate</td>\n",
              "      <td>Yes</td>\n",
              "      <td>3000</td>\n",
              "      <td>0.0</td>\n",
              "      <td>66.0</td>\n",
              "      <td>360.0</td>\n",
              "      <td>1.0</td>\n",
              "      <td>Urban</td>\n",
              "      <td>Y</td>\n",
              "    </tr>\n",
              "    <tr>\n",
              "      <th>3</th>\n",
              "      <td>LP001006</td>\n",
              "      <td>Male</td>\n",
              "      <td>Yes</td>\n",
              "      <td>0</td>\n",
              "      <td>Not Graduate</td>\n",
              "      <td>No</td>\n",
              "      <td>2583</td>\n",
              "      <td>2358.0</td>\n",
              "      <td>120.0</td>\n",
              "      <td>360.0</td>\n",
              "      <td>1.0</td>\n",
              "      <td>Urban</td>\n",
              "      <td>Y</td>\n",
              "    </tr>\n",
              "    <tr>\n",
              "      <th>4</th>\n",
              "      <td>LP001008</td>\n",
              "      <td>Male</td>\n",
              "      <td>No</td>\n",
              "      <td>0</td>\n",
              "      <td>Graduate</td>\n",
              "      <td>No</td>\n",
              "      <td>6000</td>\n",
              "      <td>0.0</td>\n",
              "      <td>141.0</td>\n",
              "      <td>360.0</td>\n",
              "      <td>1.0</td>\n",
              "      <td>Urban</td>\n",
              "      <td>Y</td>\n",
              "    </tr>\n",
              "  </tbody>\n",
              "</table>\n",
              "</div>"
            ],
            "text/plain": [
              "    Loan_ID Gender Married  ... Credit_History Property_Area Loan_Status\n",
              "0  LP001002   Male      No  ...            1.0         Urban           Y\n",
              "1  LP001003   Male     Yes  ...            1.0         Rural           N\n",
              "2  LP001005   Male     Yes  ...            1.0         Urban           Y\n",
              "3  LP001006   Male     Yes  ...            1.0         Urban           Y\n",
              "4  LP001008   Male      No  ...            1.0         Urban           Y\n",
              "\n",
              "[5 rows x 13 columns]"
            ]
          },
          "metadata": {
            "tags": []
          },
          "execution_count": 88
        }
      ]
    },
    {
      "cell_type": "code",
      "metadata": {
        "colab": {
          "base_uri": "https://localhost:8080/",
          "height": 194
        },
        "id": "iMtV6oX7X0Hd",
        "outputId": "68b1ce12-f69e-4128-baa4-ccd4ae0b1c1a"
      },
      "source": [
        "testdata.head()"
      ],
      "execution_count": null,
      "outputs": [
        {
          "output_type": "execute_result",
          "data": {
            "text/html": [
              "<div>\n",
              "<style scoped>\n",
              "    .dataframe tbody tr th:only-of-type {\n",
              "        vertical-align: middle;\n",
              "    }\n",
              "\n",
              "    .dataframe tbody tr th {\n",
              "        vertical-align: top;\n",
              "    }\n",
              "\n",
              "    .dataframe thead th {\n",
              "        text-align: right;\n",
              "    }\n",
              "</style>\n",
              "<table border=\"1\" class=\"dataframe\">\n",
              "  <thead>\n",
              "    <tr style=\"text-align: right;\">\n",
              "      <th></th>\n",
              "      <th>Loan_ID</th>\n",
              "      <th>Gender</th>\n",
              "      <th>Married</th>\n",
              "      <th>Dependents</th>\n",
              "      <th>Education</th>\n",
              "      <th>Self_Employed</th>\n",
              "      <th>ApplicantIncome</th>\n",
              "      <th>CoapplicantIncome</th>\n",
              "      <th>LoanAmount</th>\n",
              "      <th>Loan_Amount_Term</th>\n",
              "      <th>Credit_History</th>\n",
              "      <th>Property_Area</th>\n",
              "    </tr>\n",
              "  </thead>\n",
              "  <tbody>\n",
              "    <tr>\n",
              "      <th>0</th>\n",
              "      <td>LP001015</td>\n",
              "      <td>Male</td>\n",
              "      <td>Yes</td>\n",
              "      <td>0</td>\n",
              "      <td>Graduate</td>\n",
              "      <td>No</td>\n",
              "      <td>5720</td>\n",
              "      <td>0</td>\n",
              "      <td>110.0</td>\n",
              "      <td>360.0</td>\n",
              "      <td>1.0</td>\n",
              "      <td>Urban</td>\n",
              "    </tr>\n",
              "    <tr>\n",
              "      <th>1</th>\n",
              "      <td>LP001022</td>\n",
              "      <td>Male</td>\n",
              "      <td>Yes</td>\n",
              "      <td>1</td>\n",
              "      <td>Graduate</td>\n",
              "      <td>No</td>\n",
              "      <td>3076</td>\n",
              "      <td>1500</td>\n",
              "      <td>126.0</td>\n",
              "      <td>360.0</td>\n",
              "      <td>1.0</td>\n",
              "      <td>Urban</td>\n",
              "    </tr>\n",
              "    <tr>\n",
              "      <th>2</th>\n",
              "      <td>LP001031</td>\n",
              "      <td>Male</td>\n",
              "      <td>Yes</td>\n",
              "      <td>2</td>\n",
              "      <td>Graduate</td>\n",
              "      <td>No</td>\n",
              "      <td>5000</td>\n",
              "      <td>1800</td>\n",
              "      <td>208.0</td>\n",
              "      <td>360.0</td>\n",
              "      <td>1.0</td>\n",
              "      <td>Urban</td>\n",
              "    </tr>\n",
              "    <tr>\n",
              "      <th>3</th>\n",
              "      <td>LP001035</td>\n",
              "      <td>Male</td>\n",
              "      <td>Yes</td>\n",
              "      <td>2</td>\n",
              "      <td>Graduate</td>\n",
              "      <td>No</td>\n",
              "      <td>2340</td>\n",
              "      <td>2546</td>\n",
              "      <td>100.0</td>\n",
              "      <td>360.0</td>\n",
              "      <td>NaN</td>\n",
              "      <td>Urban</td>\n",
              "    </tr>\n",
              "    <tr>\n",
              "      <th>4</th>\n",
              "      <td>LP001051</td>\n",
              "      <td>Male</td>\n",
              "      <td>No</td>\n",
              "      <td>0</td>\n",
              "      <td>Not Graduate</td>\n",
              "      <td>No</td>\n",
              "      <td>3276</td>\n",
              "      <td>0</td>\n",
              "      <td>78.0</td>\n",
              "      <td>360.0</td>\n",
              "      <td>1.0</td>\n",
              "      <td>Urban</td>\n",
              "    </tr>\n",
              "  </tbody>\n",
              "</table>\n",
              "</div>"
            ],
            "text/plain": [
              "    Loan_ID Gender Married  ... Loan_Amount_Term Credit_History Property_Area\n",
              "0  LP001015   Male     Yes  ...            360.0            1.0         Urban\n",
              "1  LP001022   Male     Yes  ...            360.0            1.0         Urban\n",
              "2  LP001031   Male     Yes  ...            360.0            1.0         Urban\n",
              "3  LP001035   Male     Yes  ...            360.0            NaN         Urban\n",
              "4  LP001051   Male      No  ...            360.0            1.0         Urban\n",
              "\n",
              "[5 rows x 12 columns]"
            ]
          },
          "metadata": {
            "tags": []
          },
          "execution_count": 89
        }
      ]
    },
    {
      "cell_type": "code",
      "metadata": {
        "colab": {
          "base_uri": "https://localhost:8080/",
          "height": 282
        },
        "id": "nVbOdI35X0Hd",
        "outputId": "876174eb-e9d8-47ab-beb4-7c050be3379f"
      },
      "source": [
        "data.describe()"
      ],
      "execution_count": null,
      "outputs": [
        {
          "output_type": "execute_result",
          "data": {
            "text/html": [
              "<div>\n",
              "<style scoped>\n",
              "    .dataframe tbody tr th:only-of-type {\n",
              "        vertical-align: middle;\n",
              "    }\n",
              "\n",
              "    .dataframe tbody tr th {\n",
              "        vertical-align: top;\n",
              "    }\n",
              "\n",
              "    .dataframe thead th {\n",
              "        text-align: right;\n",
              "    }\n",
              "</style>\n",
              "<table border=\"1\" class=\"dataframe\">\n",
              "  <thead>\n",
              "    <tr style=\"text-align: right;\">\n",
              "      <th></th>\n",
              "      <th>ApplicantIncome</th>\n",
              "      <th>CoapplicantIncome</th>\n",
              "      <th>LoanAmount</th>\n",
              "      <th>Loan_Amount_Term</th>\n",
              "      <th>Credit_History</th>\n",
              "    </tr>\n",
              "  </thead>\n",
              "  <tbody>\n",
              "    <tr>\n",
              "      <th>count</th>\n",
              "      <td>614.000000</td>\n",
              "      <td>614.000000</td>\n",
              "      <td>592.000000</td>\n",
              "      <td>600.00000</td>\n",
              "      <td>564.000000</td>\n",
              "    </tr>\n",
              "    <tr>\n",
              "      <th>mean</th>\n",
              "      <td>5403.459283</td>\n",
              "      <td>1621.245798</td>\n",
              "      <td>146.412162</td>\n",
              "      <td>342.00000</td>\n",
              "      <td>0.842199</td>\n",
              "    </tr>\n",
              "    <tr>\n",
              "      <th>std</th>\n",
              "      <td>6109.041673</td>\n",
              "      <td>2926.248369</td>\n",
              "      <td>85.587325</td>\n",
              "      <td>65.12041</td>\n",
              "      <td>0.364878</td>\n",
              "    </tr>\n",
              "    <tr>\n",
              "      <th>min</th>\n",
              "      <td>150.000000</td>\n",
              "      <td>0.000000</td>\n",
              "      <td>9.000000</td>\n",
              "      <td>12.00000</td>\n",
              "      <td>0.000000</td>\n",
              "    </tr>\n",
              "    <tr>\n",
              "      <th>25%</th>\n",
              "      <td>2877.500000</td>\n",
              "      <td>0.000000</td>\n",
              "      <td>100.000000</td>\n",
              "      <td>360.00000</td>\n",
              "      <td>1.000000</td>\n",
              "    </tr>\n",
              "    <tr>\n",
              "      <th>50%</th>\n",
              "      <td>3812.500000</td>\n",
              "      <td>1188.500000</td>\n",
              "      <td>128.000000</td>\n",
              "      <td>360.00000</td>\n",
              "      <td>1.000000</td>\n",
              "    </tr>\n",
              "    <tr>\n",
              "      <th>75%</th>\n",
              "      <td>5795.000000</td>\n",
              "      <td>2297.250000</td>\n",
              "      <td>168.000000</td>\n",
              "      <td>360.00000</td>\n",
              "      <td>1.000000</td>\n",
              "    </tr>\n",
              "    <tr>\n",
              "      <th>max</th>\n",
              "      <td>81000.000000</td>\n",
              "      <td>41667.000000</td>\n",
              "      <td>700.000000</td>\n",
              "      <td>480.00000</td>\n",
              "      <td>1.000000</td>\n",
              "    </tr>\n",
              "  </tbody>\n",
              "</table>\n",
              "</div>"
            ],
            "text/plain": [
              "       ApplicantIncome  CoapplicantIncome  ...  Loan_Amount_Term  Credit_History\n",
              "count       614.000000         614.000000  ...         600.00000      564.000000\n",
              "mean       5403.459283        1621.245798  ...         342.00000        0.842199\n",
              "std        6109.041673        2926.248369  ...          65.12041        0.364878\n",
              "min         150.000000           0.000000  ...          12.00000        0.000000\n",
              "25%        2877.500000           0.000000  ...         360.00000        1.000000\n",
              "50%        3812.500000        1188.500000  ...         360.00000        1.000000\n",
              "75%        5795.000000        2297.250000  ...         360.00000        1.000000\n",
              "max       81000.000000       41667.000000  ...         480.00000        1.000000\n",
              "\n",
              "[8 rows x 5 columns]"
            ]
          },
          "metadata": {
            "tags": []
          },
          "execution_count": 90
        }
      ]
    },
    {
      "cell_type": "code",
      "metadata": {
        "colab": {
          "base_uri": "https://localhost:8080/"
        },
        "id": "Ae_oRKv3X0Hf",
        "outputId": "0901845c-4a23-42d4-c53a-052db3393233"
      },
      "source": [
        "data.dtypes"
      ],
      "execution_count": null,
      "outputs": [
        {
          "output_type": "execute_result",
          "data": {
            "text/plain": [
              "Loan_ID               object\n",
              "Gender                object\n",
              "Married               object\n",
              "Dependents            object\n",
              "Education             object\n",
              "Self_Employed         object\n",
              "ApplicantIncome        int64\n",
              "CoapplicantIncome    float64\n",
              "LoanAmount           float64\n",
              "Loan_Amount_Term     float64\n",
              "Credit_History       float64\n",
              "Property_Area         object\n",
              "Loan_Status           object\n",
              "dtype: object"
            ]
          },
          "metadata": {
            "tags": []
          },
          "execution_count": 91
        }
      ]
    },
    {
      "cell_type": "code",
      "metadata": {
        "colab": {
          "base_uri": "https://localhost:8080/"
        },
        "id": "EJFNv4LwX0Hg",
        "outputId": "7cb812f8-8d0d-41c8-d5a9-b756fd32e451"
      },
      "source": [
        "data.isnull().values.any()                  "
      ],
      "execution_count": null,
      "outputs": [
        {
          "output_type": "execute_result",
          "data": {
            "text/plain": [
              "True"
            ]
          },
          "metadata": {
            "tags": []
          },
          "execution_count": 92
        }
      ]
    },
    {
      "cell_type": "code",
      "metadata": {
        "colab": {
          "base_uri": "https://localhost:8080/"
        },
        "id": "DSMKpzCDX0Hg",
        "outputId": "30e594dd-48e7-4aa4-ac2c-38ed2cc60cec"
      },
      "source": [
        "data.isnull().values.sum()                  "
      ],
      "execution_count": null,
      "outputs": [
        {
          "output_type": "execute_result",
          "data": {
            "text/plain": [
              "149"
            ]
          },
          "metadata": {
            "tags": []
          },
          "execution_count": 93
        }
      ]
    },
    {
      "cell_type": "code",
      "metadata": {
        "colab": {
          "base_uri": "https://localhost:8080/"
        },
        "id": "PC8P-aGsX0Hh",
        "outputId": "1afabd1e-d1d8-4596-9060-19cfda0fe4fb"
      },
      "source": [
        "data.isnull().any()    "
      ],
      "execution_count": null,
      "outputs": [
        {
          "output_type": "execute_result",
          "data": {
            "text/plain": [
              "Loan_ID              False\n",
              "Gender                True\n",
              "Married               True\n",
              "Dependents            True\n",
              "Education            False\n",
              "Self_Employed         True\n",
              "ApplicantIncome      False\n",
              "CoapplicantIncome    False\n",
              "LoanAmount            True\n",
              "Loan_Amount_Term      True\n",
              "Credit_History        True\n",
              "Property_Area        False\n",
              "Loan_Status          False\n",
              "dtype: bool"
            ]
          },
          "metadata": {
            "tags": []
          },
          "execution_count": 94
        }
      ]
    },
    {
      "cell_type": "code",
      "metadata": {
        "colab": {
          "base_uri": "https://localhost:8080/"
        },
        "id": "ppUKtEA2X0Hh",
        "outputId": "180b1256-9c57-401e-d3d5-a69b5b15e989"
      },
      "source": [
        "testdata.isnull().any()    "
      ],
      "execution_count": null,
      "outputs": [
        {
          "output_type": "execute_result",
          "data": {
            "text/plain": [
              "Loan_ID              False\n",
              "Gender                True\n",
              "Married              False\n",
              "Dependents            True\n",
              "Education            False\n",
              "Self_Employed         True\n",
              "ApplicantIncome      False\n",
              "CoapplicantIncome    False\n",
              "LoanAmount            True\n",
              "Loan_Amount_Term      True\n",
              "Credit_History        True\n",
              "Property_Area        False\n",
              "dtype: bool"
            ]
          },
          "metadata": {
            "tags": []
          },
          "execution_count": 95
        }
      ]
    },
    {
      "cell_type": "code",
      "metadata": {
        "colab": {
          "base_uri": "https://localhost:8080/"
        },
        "id": "NWTVQm1SX0Hh",
        "outputId": "e279bb7b-2cab-49f0-dec4-0de145386674"
      },
      "source": [
        "data=pd.DataFrame(data)\n",
        "print(data)"
      ],
      "execution_count": null,
      "outputs": [
        {
          "output_type": "stream",
          "text": [
            "      Loan_ID  Gender Married  ... Credit_History Property_Area Loan_Status\n",
            "0    LP001002    Male      No  ...            1.0         Urban           Y\n",
            "1    LP001003    Male     Yes  ...            1.0         Rural           N\n",
            "2    LP001005    Male     Yes  ...            1.0         Urban           Y\n",
            "3    LP001006    Male     Yes  ...            1.0         Urban           Y\n",
            "4    LP001008    Male      No  ...            1.0         Urban           Y\n",
            "..        ...     ...     ...  ...            ...           ...         ...\n",
            "609  LP002978  Female      No  ...            1.0         Rural           Y\n",
            "610  LP002979    Male     Yes  ...            1.0         Rural           Y\n",
            "611  LP002983    Male     Yes  ...            1.0         Urban           Y\n",
            "612  LP002984    Male     Yes  ...            1.0         Urban           Y\n",
            "613  LP002990  Female      No  ...            0.0     Semiurban           N\n",
            "\n",
            "[614 rows x 13 columns]\n"
          ],
          "name": "stdout"
        }
      ]
    },
    {
      "cell_type": "code",
      "metadata": {
        "colab": {
          "base_uri": "https://localhost:8080/"
        },
        "id": "LfbyjgU6ubGT",
        "outputId": "b1ae598c-5b0b-4da0-8cee-c9d70fe18888"
      },
      "source": [
        "testdata=pd.DataFrame(testdata)\n",
        "print(testdata)"
      ],
      "execution_count": null,
      "outputs": [
        {
          "output_type": "stream",
          "text": [
            "      Loan_ID Gender Married  ... Loan_Amount_Term Credit_History Property_Area\n",
            "0    LP001015   Male     Yes  ...            360.0            1.0         Urban\n",
            "1    LP001022   Male     Yes  ...            360.0            1.0         Urban\n",
            "2    LP001031   Male     Yes  ...            360.0            1.0         Urban\n",
            "3    LP001035   Male     Yes  ...            360.0            NaN         Urban\n",
            "4    LP001051   Male      No  ...            360.0            1.0         Urban\n",
            "..        ...    ...     ...  ...              ...            ...           ...\n",
            "362  LP002971   Male     Yes  ...            360.0            1.0         Urban\n",
            "363  LP002975   Male     Yes  ...            360.0            1.0         Urban\n",
            "364  LP002980   Male      No  ...            360.0            NaN     Semiurban\n",
            "365  LP002986   Male     Yes  ...            360.0            1.0         Rural\n",
            "366  LP002989   Male      No  ...            180.0            1.0         Rural\n",
            "\n",
            "[367 rows x 12 columns]\n"
          ],
          "name": "stdout"
        }
      ]
    },
    {
      "cell_type": "code",
      "metadata": {
        "colab": {
          "base_uri": "https://localhost:8080/"
        },
        "id": "eaohja87X0Hi",
        "outputId": "60e18728-034c-41bf-a80c-6d6139917546"
      },
      "source": [
        "data.info()"
      ],
      "execution_count": null,
      "outputs": [
        {
          "output_type": "stream",
          "text": [
            "<class 'pandas.core.frame.DataFrame'>\n",
            "RangeIndex: 614 entries, 0 to 613\n",
            "Data columns (total 13 columns):\n",
            " #   Column             Non-Null Count  Dtype  \n",
            "---  ------             --------------  -----  \n",
            " 0   Loan_ID            614 non-null    object \n",
            " 1   Gender             601 non-null    object \n",
            " 2   Married            611 non-null    object \n",
            " 3   Dependents         599 non-null    object \n",
            " 4   Education          614 non-null    object \n",
            " 5   Self_Employed      582 non-null    object \n",
            " 6   ApplicantIncome    614 non-null    int64  \n",
            " 7   CoapplicantIncome  614 non-null    float64\n",
            " 8   LoanAmount         592 non-null    float64\n",
            " 9   Loan_Amount_Term   600 non-null    float64\n",
            " 10  Credit_History     564 non-null    float64\n",
            " 11  Property_Area      614 non-null    object \n",
            " 12  Loan_Status        614 non-null    object \n",
            "dtypes: float64(4), int64(1), object(8)\n",
            "memory usage: 62.5+ KB\n"
          ],
          "name": "stdout"
        }
      ]
    },
    {
      "cell_type": "code",
      "metadata": {
        "colab": {
          "base_uri": "https://localhost:8080/"
        },
        "id": "_dD07kO2X0Hj",
        "outputId": "fe2f1cf1-8700-46e1-b7f6-b4ef8a736016"
      },
      "source": [
        "data.duplicated().sum()"
      ],
      "execution_count": null,
      "outputs": [
        {
          "output_type": "execute_result",
          "data": {
            "text/plain": [
              "0"
            ]
          },
          "metadata": {
            "tags": []
          },
          "execution_count": 99
        }
      ]
    },
    {
      "cell_type": "code",
      "metadata": {
        "colab": {
          "base_uri": "https://localhost:8080/"
        },
        "id": "h2xEZjXsX0Hj",
        "outputId": "84ea585b-0c0e-4305-a9b9-5cdd7c37c62d"
      },
      "source": [
        "data.isnull().sum()"
      ],
      "execution_count": null,
      "outputs": [
        {
          "output_type": "execute_result",
          "data": {
            "text/plain": [
              "Loan_ID               0\n",
              "Gender               13\n",
              "Married               3\n",
              "Dependents           15\n",
              "Education             0\n",
              "Self_Employed        32\n",
              "ApplicantIncome       0\n",
              "CoapplicantIncome     0\n",
              "LoanAmount           22\n",
              "Loan_Amount_Term     14\n",
              "Credit_History       50\n",
              "Property_Area         0\n",
              "Loan_Status           0\n",
              "dtype: int64"
            ]
          },
          "metadata": {
            "tags": []
          },
          "execution_count": 100
        }
      ]
    },
    {
      "cell_type": "markdown",
      "metadata": {
        "id": "L74gAmSNX0Hk"
      },
      "source": [
        "# DEALING WITH NULL VALUES# \n",
        "\n",
        "---\n",
        "\n"
      ]
    },
    {
      "cell_type": "code",
      "metadata": {
        "id": "GTiGCOIeX0Hl"
      },
      "source": [
        "data['Loan_Amount_Term'].fillna(data['Loan_Amount_Term'].mean(), inplace=True)"
      ],
      "execution_count": null,
      "outputs": []
    },
    {
      "cell_type": "code",
      "metadata": {
        "id": "QlxIsqdjX0Hl"
      },
      "source": [
        "data['Gender'].fillna(data['Gender'].mode()[0], inplace=True )\n"
      ],
      "execution_count": null,
      "outputs": []
    },
    {
      "cell_type": "code",
      "metadata": {
        "id": "7EQjEqWRX0Hl"
      },
      "source": [
        "data['Gender'].fillna(data['Gender'].mode()[0], inplace=True)"
      ],
      "execution_count": null,
      "outputs": []
    },
    {
      "cell_type": "code",
      "metadata": {
        "id": "E-ThbmwcX0Hl"
      },
      "source": [
        " data['Married'].fillna(data['Married'].mode(), inplace=True )"
      ],
      "execution_count": null,
      "outputs": []
    },
    {
      "cell_type": "code",
      "metadata": {
        "id": "afR2ZgM9X0Hl"
      },
      "source": [
        "data['Dependents'].fillna(data['Dependents'].mode()[0], inplace=True)"
      ],
      "execution_count": null,
      "outputs": []
    },
    {
      "cell_type": "code",
      "metadata": {
        "id": "eog4lkuOX0Hl"
      },
      "source": [
        "data['Credit_History'].fillna(data['Credit_History'].mean(), inplace=True)"
      ],
      "execution_count": null,
      "outputs": []
    },
    {
      "cell_type": "code",
      "metadata": {
        "id": "kdzj8yO9X0Hl"
      },
      "source": [
        "data['Self_Employed'].fillna(data['Self_Employed'].mode()[0], inplace=True)"
      ],
      "execution_count": null,
      "outputs": []
    },
    {
      "cell_type": "code",
      "metadata": {
        "id": "qSrobqz-X0Hm"
      },
      "source": [
        "data['LoanAmount'].fillna(data['LoanAmount'].median(), inplace=True )"
      ],
      "execution_count": null,
      "outputs": []
    },
    {
      "cell_type": "code",
      "metadata": {
        "colab": {
          "base_uri": "https://localhost:8080/"
        },
        "id": "XGSCFqpbX0Hm",
        "outputId": "92d740b2-788d-44a3-b0b6-19f3a1d0c89b"
      },
      "source": [
        "data.isnull().any().sum()"
      ],
      "execution_count": null,
      "outputs": [
        {
          "output_type": "execute_result",
          "data": {
            "text/plain": [
              "1"
            ]
          },
          "metadata": {
            "tags": []
          },
          "execution_count": 109
        }
      ]
    },
    {
      "cell_type": "markdown",
      "metadata": {
        "id": "m3NZBQewX0Hm"
      },
      "source": [
        "TEST DATA MISSING VALUES"
      ]
    },
    {
      "cell_type": "code",
      "metadata": {
        "id": "tbXq5HQ4X0Hm"
      },
      "source": [
        "testdata['Credit_History'].fillna(testdata['Credit_History'].mean(), inplace=True)"
      ],
      "execution_count": null,
      "outputs": []
    },
    {
      "cell_type": "code",
      "metadata": {
        "id": "RaZSJgVKX0Hm"
      },
      "source": [
        "testdata['Loan_Amount_Term'].fillna(testdata['Loan_Amount_Term'].mean(), inplace=True)"
      ],
      "execution_count": null,
      "outputs": []
    },
    {
      "cell_type": "code",
      "metadata": {
        "id": "dFerebcuX0Hm"
      },
      "source": [
        "testdata['LoanAmount'].fillna(testdata['LoanAmount'].median(), inplace=True )"
      ],
      "execution_count": null,
      "outputs": []
    },
    {
      "cell_type": "code",
      "metadata": {
        "id": "YOPe3mOdX0Hm"
      },
      "source": [
        "testdata['Self_Employed'].fillna(testdata['Self_Employed'].mode()[0], inplace=True)"
      ],
      "execution_count": null,
      "outputs": []
    },
    {
      "cell_type": "code",
      "metadata": {
        "id": "UyuoGu2DX0Hm"
      },
      "source": [
        "testdata['Dependents'].fillna(testdata['Dependents'].mode()[0], inplace=True)"
      ],
      "execution_count": null,
      "outputs": []
    },
    {
      "cell_type": "code",
      "metadata": {
        "id": "ew88VhnyX0Hm"
      },
      "source": [
        " testdata['Married'].fillna(testdata['Married'].mode()[0], inplace=True )"
      ],
      "execution_count": null,
      "outputs": []
    },
    {
      "cell_type": "code",
      "metadata": {
        "id": "SenkwsCqX0Hm"
      },
      "source": [
        "testdata['Gender'].fillna(testdata['Gender'].mode()[0], inplace=True )"
      ],
      "execution_count": null,
      "outputs": []
    },
    {
      "cell_type": "code",
      "metadata": {
        "colab": {
          "base_uri": "https://localhost:8080/"
        },
        "id": "GJmPyd_6X0Hm",
        "outputId": "7b814cfa-b46c-4a5a-8c08-70bd6ce6968a"
      },
      "source": [
        "testdata.isnull().any()"
      ],
      "execution_count": null,
      "outputs": [
        {
          "output_type": "execute_result",
          "data": {
            "text/plain": [
              "Loan_ID              False\n",
              "Gender               False\n",
              "Married              False\n",
              "Dependents           False\n",
              "Education            False\n",
              "Self_Employed        False\n",
              "ApplicantIncome      False\n",
              "CoapplicantIncome    False\n",
              "LoanAmount           False\n",
              "Loan_Amount_Term     False\n",
              "Credit_History       False\n",
              "Property_Area        False\n",
              "dtype: bool"
            ]
          },
          "metadata": {
            "tags": []
          },
          "execution_count": 117
        }
      ]
    },
    {
      "cell_type": "code",
      "metadata": {
        "colab": {
          "base_uri": "https://localhost:8080/"
        },
        "id": "mR1nKXdsX0Hn",
        "outputId": "97432744-4060-4201-e29d-aed3ae48eb7d"
      },
      "source": [
        "data.duplicated()"
      ],
      "execution_count": null,
      "outputs": [
        {
          "output_type": "execute_result",
          "data": {
            "text/plain": [
              "0      False\n",
              "1      False\n",
              "2      False\n",
              "3      False\n",
              "4      False\n",
              "       ...  \n",
              "609    False\n",
              "610    False\n",
              "611    False\n",
              "612    False\n",
              "613    False\n",
              "Length: 614, dtype: bool"
            ]
          },
          "metadata": {
            "tags": []
          },
          "execution_count": 118
        }
      ]
    },
    {
      "cell_type": "code",
      "metadata": {
        "colab": {
          "base_uri": "https://localhost:8080/",
          "height": 248
        },
        "id": "PMUG1oV6n7Kq",
        "outputId": "071cc789-b890-4b06-f8e7-7b65c129fcb5"
      },
      "source": [
        "data.sample(5)"
      ],
      "execution_count": null,
      "outputs": [
        {
          "output_type": "execute_result",
          "data": {
            "text/html": [
              "<div>\n",
              "<style scoped>\n",
              "    .dataframe tbody tr th:only-of-type {\n",
              "        vertical-align: middle;\n",
              "    }\n",
              "\n",
              "    .dataframe tbody tr th {\n",
              "        vertical-align: top;\n",
              "    }\n",
              "\n",
              "    .dataframe thead th {\n",
              "        text-align: right;\n",
              "    }\n",
              "</style>\n",
              "<table border=\"1\" class=\"dataframe\">\n",
              "  <thead>\n",
              "    <tr style=\"text-align: right;\">\n",
              "      <th></th>\n",
              "      <th>Loan_ID</th>\n",
              "      <th>Gender</th>\n",
              "      <th>Married</th>\n",
              "      <th>Dependents</th>\n",
              "      <th>Education</th>\n",
              "      <th>Self_Employed</th>\n",
              "      <th>ApplicantIncome</th>\n",
              "      <th>CoapplicantIncome</th>\n",
              "      <th>LoanAmount</th>\n",
              "      <th>Loan_Amount_Term</th>\n",
              "      <th>Credit_History</th>\n",
              "      <th>Property_Area</th>\n",
              "      <th>Loan_Status</th>\n",
              "    </tr>\n",
              "  </thead>\n",
              "  <tbody>\n",
              "    <tr>\n",
              "      <th>570</th>\n",
              "      <td>LP002842</td>\n",
              "      <td>Male</td>\n",
              "      <td>Yes</td>\n",
              "      <td>1</td>\n",
              "      <td>Graduate</td>\n",
              "      <td>No</td>\n",
              "      <td>3417</td>\n",
              "      <td>1750.0</td>\n",
              "      <td>186.0</td>\n",
              "      <td>360.0</td>\n",
              "      <td>1.0</td>\n",
              "      <td>Urban</td>\n",
              "      <td>Y</td>\n",
              "    </tr>\n",
              "    <tr>\n",
              "      <th>389</th>\n",
              "      <td>LP002250</td>\n",
              "      <td>Male</td>\n",
              "      <td>Yes</td>\n",
              "      <td>0</td>\n",
              "      <td>Graduate</td>\n",
              "      <td>No</td>\n",
              "      <td>5488</td>\n",
              "      <td>0.0</td>\n",
              "      <td>125.0</td>\n",
              "      <td>360.0</td>\n",
              "      <td>1.0</td>\n",
              "      <td>Rural</td>\n",
              "      <td>Y</td>\n",
              "    </tr>\n",
              "    <tr>\n",
              "      <th>241</th>\n",
              "      <td>LP001800</td>\n",
              "      <td>Male</td>\n",
              "      <td>Yes</td>\n",
              "      <td>1</td>\n",
              "      <td>Not Graduate</td>\n",
              "      <td>No</td>\n",
              "      <td>2510</td>\n",
              "      <td>1983.0</td>\n",
              "      <td>140.0</td>\n",
              "      <td>180.0</td>\n",
              "      <td>1.0</td>\n",
              "      <td>Urban</td>\n",
              "      <td>N</td>\n",
              "    </tr>\n",
              "    <tr>\n",
              "      <th>322</th>\n",
              "      <td>LP002054</td>\n",
              "      <td>Male</td>\n",
              "      <td>Yes</td>\n",
              "      <td>2</td>\n",
              "      <td>Not Graduate</td>\n",
              "      <td>No</td>\n",
              "      <td>3601</td>\n",
              "      <td>1590.0</td>\n",
              "      <td>128.0</td>\n",
              "      <td>360.0</td>\n",
              "      <td>1.0</td>\n",
              "      <td>Rural</td>\n",
              "      <td>Y</td>\n",
              "    </tr>\n",
              "    <tr>\n",
              "      <th>500</th>\n",
              "      <td>LP002603</td>\n",
              "      <td>Female</td>\n",
              "      <td>No</td>\n",
              "      <td>0</td>\n",
              "      <td>Graduate</td>\n",
              "      <td>No</td>\n",
              "      <td>645</td>\n",
              "      <td>3683.0</td>\n",
              "      <td>113.0</td>\n",
              "      <td>480.0</td>\n",
              "      <td>1.0</td>\n",
              "      <td>Rural</td>\n",
              "      <td>Y</td>\n",
              "    </tr>\n",
              "  </tbody>\n",
              "</table>\n",
              "</div>"
            ],
            "text/plain": [
              "      Loan_ID  Gender Married  ... Credit_History Property_Area Loan_Status\n",
              "570  LP002842    Male     Yes  ...            1.0         Urban           Y\n",
              "389  LP002250    Male     Yes  ...            1.0         Rural           Y\n",
              "241  LP001800    Male     Yes  ...            1.0         Urban           N\n",
              "322  LP002054    Male     Yes  ...            1.0         Rural           Y\n",
              "500  LP002603  Female      No  ...            1.0         Rural           Y\n",
              "\n",
              "[5 rows x 13 columns]"
            ]
          },
          "metadata": {
            "tags": []
          },
          "execution_count": 119
        }
      ]
    },
    {
      "cell_type": "code",
      "metadata": {
        "id": "Yz9lZy6y1vKP"
      },
      "source": [
        "categorical_columns = ['Gender', 'Married', 'Dependents', 'Education', 'Self_Employed', 'Property_Area','Credit_History','Loan_Amount_Term']\n"
      ],
      "execution_count": null,
      "outputs": []
    },
    {
      "cell_type": "code",
      "metadata": {
        "id": "1-jIQTo012rz",
        "colab": {
          "base_uri": "https://localhost:8080/",
          "height": 878
        },
        "outputId": "bcd36151-bf36-485a-df8b-8622dfc25483"
      },
      "source": [
        "fig,axes = plt.subplots(4,2,figsize=(12,15))\n",
        "for idx,cat_col in enumerate(categorical_columns):\n",
        "    row,col = idx//2,idx%2\n",
        "    sns.countplot(x=cat_col,data=data,hue='Loan_Status',ax=axes[row,col])\n",
        "\n",
        "plt.subplots_adjust(hspace=1)"
      ],
      "execution_count": null,
      "outputs": [
        {
          "output_type": "display_data",
          "data": {
            "image/png": "[encoded data removed]",
            "text/plain": [
              "<Figure size 864x1080 with 8 Axes>"
            ]
          },
          "metadata": {
            "tags": [],
            "needs_background": "light"
          }
        }
      ]
    },
    {
      "cell_type": "markdown",
      "metadata": {
        "id": "2ZkaQ_-aX0Hn"
      },
      "source": [
        "# ENCODING THE DATA"
      ]
    },
    {
      "cell_type": "code",
      "metadata": {
        "id": "OIdrtS8TpK8H"
      },
      "source": [
        "data_t=testdata.drop('Loan_ID', axis=1)"
      ],
      "execution_count": null,
      "outputs": []
    },
    {
      "cell_type": "code",
      "metadata": {
        "id": "GgXg8p5MpAL8"
      },
      "source": [
        "data.drop('Loan_ID', axis=1, inplace=True)"
      ],
      "execution_count": null,
      "outputs": []
    },
    {
      "cell_type": "code",
      "metadata": {
        "id": "zYMIGAxXnpZD"
      },
      "source": [
        "data_t= pd.get_dummies(data_t, drop_first=True)"
      ],
      "execution_count": null,
      "outputs": []
    },
    {
      "cell_type": "code",
      "metadata": {
        "id": "VjrNK9fnX0He",
        "colab": {
          "base_uri": "https://localhost:8080/",
          "height": 377
        },
        "outputId": "1fa2ffbf-3b78-46fc-935f-263a6295a1a3"
      },
      "source": [
        "data_t.sample(10)"
      ],
      "execution_count": null,
      "outputs": [
        {
          "output_type": "execute_result",
          "data": {
            "text/html": [
              "<div>\n",
              "<style scoped>\n",
              "    .dataframe tbody tr th:only-of-type {\n",
              "        vertical-align: middle;\n",
              "    }\n",
              "\n",
              "    .dataframe tbody tr th {\n",
              "        vertical-align: top;\n",
              "    }\n",
              "\n",
              "    .dataframe thead th {\n",
              "        text-align: right;\n",
              "    }\n",
              "</style>\n",
              "<table border=\"1\" class=\"dataframe\">\n",
              "  <thead>\n",
              "    <tr style=\"text-align: right;\">\n",
              "      <th></th>\n",
              "      <th>ApplicantIncome</th>\n",
              "      <th>CoapplicantIncome</th>\n",
              "      <th>LoanAmount</th>\n",
              "      <th>Loan_Amount_Term</th>\n",
              "      <th>Credit_History</th>\n",
              "      <th>Gender_Male</th>\n",
              "      <th>Married_Yes</th>\n",
              "      <th>Dependents_1</th>\n",
              "      <th>Dependents_2</th>\n",
              "      <th>Dependents_3+</th>\n",
              "      <th>Education_Not Graduate</th>\n",
              "      <th>Self_Employed_Yes</th>\n",
              "      <th>Property_Area_Semiurban</th>\n",
              "      <th>Property_Area_Urban</th>\n",
              "    </tr>\n",
              "  </thead>\n",
              "  <tbody>\n",
              "    <tr>\n",
              "      <th>191</th>\n",
              "      <td>4083</td>\n",
              "      <td>0</td>\n",
              "      <td>96.0</td>\n",
              "      <td>360.000000</td>\n",
              "      <td>1.0</td>\n",
              "      <td>1</td>\n",
              "      <td>0</td>\n",
              "      <td>0</td>\n",
              "      <td>0</td>\n",
              "      <td>0</td>\n",
              "      <td>0</td>\n",
              "      <td>0</td>\n",
              "      <td>0</td>\n",
              "      <td>1</td>\n",
              "    </tr>\n",
              "    <tr>\n",
              "      <th>241</th>\n",
              "      <td>3887</td>\n",
              "      <td>1517</td>\n",
              "      <td>105.0</td>\n",
              "      <td>360.000000</td>\n",
              "      <td>0.0</td>\n",
              "      <td>1</td>\n",
              "      <td>1</td>\n",
              "      <td>0</td>\n",
              "      <td>0</td>\n",
              "      <td>0</td>\n",
              "      <td>0</td>\n",
              "      <td>0</td>\n",
              "      <td>1</td>\n",
              "      <td>0</td>\n",
              "    </tr>\n",
              "    <tr>\n",
              "      <th>97</th>\n",
              "      <td>3500</td>\n",
              "      <td>3250</td>\n",
              "      <td>140.0</td>\n",
              "      <td>360.000000</td>\n",
              "      <td>1.0</td>\n",
              "      <td>1</td>\n",
              "      <td>1</td>\n",
              "      <td>0</td>\n",
              "      <td>0</td>\n",
              "      <td>0</td>\n",
              "      <td>0</td>\n",
              "      <td>0</td>\n",
              "      <td>1</td>\n",
              "      <td>0</td>\n",
              "    </tr>\n",
              "    <tr>\n",
              "      <th>184</th>\n",
              "      <td>10166</td>\n",
              "      <td>750</td>\n",
              "      <td>150.0</td>\n",
              "      <td>342.537396</td>\n",
              "      <td>1.0</td>\n",
              "      <td>1</td>\n",
              "      <td>1</td>\n",
              "      <td>0</td>\n",
              "      <td>0</td>\n",
              "      <td>1</td>\n",
              "      <td>0</td>\n",
              "      <td>0</td>\n",
              "      <td>0</td>\n",
              "      <td>1</td>\n",
              "    </tr>\n",
              "    <tr>\n",
              "      <th>339</th>\n",
              "      <td>4333</td>\n",
              "      <td>2333</td>\n",
              "      <td>162.0</td>\n",
              "      <td>360.000000</td>\n",
              "      <td>0.0</td>\n",
              "      <td>0</td>\n",
              "      <td>0</td>\n",
              "      <td>0</td>\n",
              "      <td>0</td>\n",
              "      <td>0</td>\n",
              "      <td>0</td>\n",
              "      <td>0</td>\n",
              "      <td>0</td>\n",
              "      <td>0</td>\n",
              "    </tr>\n",
              "    <tr>\n",
              "      <th>172</th>\n",
              "      <td>5225</td>\n",
              "      <td>0</td>\n",
              "      <td>143.0</td>\n",
              "      <td>360.000000</td>\n",
              "      <td>1.0</td>\n",
              "      <td>1</td>\n",
              "      <td>1</td>\n",
              "      <td>0</td>\n",
              "      <td>0</td>\n",
              "      <td>0</td>\n",
              "      <td>0</td>\n",
              "      <td>0</td>\n",
              "      <td>0</td>\n",
              "      <td>0</td>\n",
              "    </tr>\n",
              "    <tr>\n",
              "      <th>315</th>\n",
              "      <td>7859</td>\n",
              "      <td>879</td>\n",
              "      <td>165.0</td>\n",
              "      <td>180.000000</td>\n",
              "      <td>1.0</td>\n",
              "      <td>0</td>\n",
              "      <td>1</td>\n",
              "      <td>0</td>\n",
              "      <td>0</td>\n",
              "      <td>0</td>\n",
              "      <td>0</td>\n",
              "      <td>0</td>\n",
              "      <td>1</td>\n",
              "      <td>0</td>\n",
              "    </tr>\n",
              "    <tr>\n",
              "      <th>53</th>\n",
              "      <td>4116</td>\n",
              "      <td>1000</td>\n",
              "      <td>30.0</td>\n",
              "      <td>180.000000</td>\n",
              "      <td>1.0</td>\n",
              "      <td>1</td>\n",
              "      <td>1</td>\n",
              "      <td>0</td>\n",
              "      <td>1</td>\n",
              "      <td>0</td>\n",
              "      <td>0</td>\n",
              "      <td>0</td>\n",
              "      <td>0</td>\n",
              "      <td>1</td>\n",
              "    </tr>\n",
              "    <tr>\n",
              "      <th>82</th>\n",
              "      <td>4136</td>\n",
              "      <td>0</td>\n",
              "      <td>149.0</td>\n",
              "      <td>480.000000</td>\n",
              "      <td>0.0</td>\n",
              "      <td>1</td>\n",
              "      <td>1</td>\n",
              "      <td>0</td>\n",
              "      <td>1</td>\n",
              "      <td>0</td>\n",
              "      <td>1</td>\n",
              "      <td>0</td>\n",
              "      <td>0</td>\n",
              "      <td>0</td>\n",
              "    </tr>\n",
              "    <tr>\n",
              "      <th>187</th>\n",
              "      <td>9167</td>\n",
              "      <td>0</td>\n",
              "      <td>235.0</td>\n",
              "      <td>360.000000</td>\n",
              "      <td>1.0</td>\n",
              "      <td>1</td>\n",
              "      <td>1</td>\n",
              "      <td>0</td>\n",
              "      <td>1</td>\n",
              "      <td>0</td>\n",
              "      <td>0</td>\n",
              "      <td>0</td>\n",
              "      <td>1</td>\n",
              "      <td>0</td>\n",
              "    </tr>\n",
              "  </tbody>\n",
              "</table>\n",
              "</div>"
            ],
            "text/plain": [
              "     ApplicantIncome  ...  Property_Area_Urban\n",
              "191             4083  ...                    1\n",
              "241             3887  ...                    0\n",
              "97              3500  ...                    0\n",
              "184            10166  ...                    1\n",
              "339             4333  ...                    0\n",
              "172             5225  ...                    0\n",
              "315             7859  ...                    0\n",
              "53              4116  ...                    1\n",
              "82              4136  ...                    0\n",
              "187             9167  ...                    0\n",
              "\n",
              "[10 rows x 14 columns]"
            ]
          },
          "metadata": {
            "tags": []
          },
          "execution_count": 125
        }
      ]
    },
    {
      "cell_type": "code",
      "metadata": {
        "id": "v-JxmX_BoZ5b"
      },
      "source": [
        "data= pd.get_dummies(data, drop_first=True)"
      ],
      "execution_count": null,
      "outputs": []
    },
    {
      "cell_type": "code",
      "metadata": {
        "id": "h7SE3PhHof9T",
        "colab": {
          "base_uri": "https://localhost:8080/",
          "height": 231
        },
        "outputId": "5c492453-2161-4d07-d5ae-c79026b58ca9"
      },
      "source": [
        "data.sample(5)"
      ],
      "execution_count": null,
      "outputs": [
        {
          "output_type": "execute_result",
          "data": {
            "text/html": [
              "<div>\n",
              "<style scoped>\n",
              "    .dataframe tbody tr th:only-of-type {\n",
              "        vertical-align: middle;\n",
              "    }\n",
              "\n",
              "    .dataframe tbody tr th {\n",
              "        vertical-align: top;\n",
              "    }\n",
              "\n",
              "    .dataframe thead th {\n",
              "        text-align: right;\n",
              "    }\n",
              "</style>\n",
              "<table border=\"1\" class=\"dataframe\">\n",
              "  <thead>\n",
              "    <tr style=\"text-align: right;\">\n",
              "      <th></th>\n",
              "      <th>ApplicantIncome</th>\n",
              "      <th>CoapplicantIncome</th>\n",
              "      <th>LoanAmount</th>\n",
              "      <th>Loan_Amount_Term</th>\n",
              "      <th>Credit_History</th>\n",
              "      <th>Gender_Male</th>\n",
              "      <th>Married_Yes</th>\n",
              "      <th>Dependents_1</th>\n",
              "      <th>Dependents_2</th>\n",
              "      <th>Dependents_3+</th>\n",
              "      <th>Education_Not Graduate</th>\n",
              "      <th>Self_Employed_Yes</th>\n",
              "      <th>Property_Area_Semiurban</th>\n",
              "      <th>Property_Area_Urban</th>\n",
              "      <th>Loan_Status_Y</th>\n",
              "    </tr>\n",
              "  </thead>\n",
              "  <tbody>\n",
              "    <tr>\n",
              "      <th>457</th>\n",
              "      <td>3708</td>\n",
              "      <td>2569.0</td>\n",
              "      <td>173.0</td>\n",
              "      <td>360.0</td>\n",
              "      <td>1.0</td>\n",
              "      <td>1</td>\n",
              "      <td>1</td>\n",
              "      <td>0</td>\n",
              "      <td>0</td>\n",
              "      <td>0</td>\n",
              "      <td>0</td>\n",
              "      <td>0</td>\n",
              "      <td>0</td>\n",
              "      <td>1</td>\n",
              "      <td>0</td>\n",
              "    </tr>\n",
              "    <tr>\n",
              "      <th>15</th>\n",
              "      <td>4950</td>\n",
              "      <td>0.0</td>\n",
              "      <td>125.0</td>\n",
              "      <td>360.0</td>\n",
              "      <td>1.0</td>\n",
              "      <td>1</td>\n",
              "      <td>0</td>\n",
              "      <td>0</td>\n",
              "      <td>0</td>\n",
              "      <td>0</td>\n",
              "      <td>0</td>\n",
              "      <td>0</td>\n",
              "      <td>0</td>\n",
              "      <td>1</td>\n",
              "      <td>1</td>\n",
              "    </tr>\n",
              "    <tr>\n",
              "      <th>159</th>\n",
              "      <td>4583</td>\n",
              "      <td>5625.0</td>\n",
              "      <td>255.0</td>\n",
              "      <td>360.0</td>\n",
              "      <td>1.0</td>\n",
              "      <td>1</td>\n",
              "      <td>1</td>\n",
              "      <td>0</td>\n",
              "      <td>0</td>\n",
              "      <td>0</td>\n",
              "      <td>0</td>\n",
              "      <td>0</td>\n",
              "      <td>1</td>\n",
              "      <td>0</td>\n",
              "      <td>1</td>\n",
              "    </tr>\n",
              "    <tr>\n",
              "      <th>523</th>\n",
              "      <td>7948</td>\n",
              "      <td>7166.0</td>\n",
              "      <td>480.0</td>\n",
              "      <td>360.0</td>\n",
              "      <td>1.0</td>\n",
              "      <td>1</td>\n",
              "      <td>1</td>\n",
              "      <td>0</td>\n",
              "      <td>1</td>\n",
              "      <td>0</td>\n",
              "      <td>0</td>\n",
              "      <td>1</td>\n",
              "      <td>0</td>\n",
              "      <td>0</td>\n",
              "      <td>1</td>\n",
              "    </tr>\n",
              "    <tr>\n",
              "      <th>336</th>\n",
              "      <td>5250</td>\n",
              "      <td>688.0</td>\n",
              "      <td>160.0</td>\n",
              "      <td>360.0</td>\n",
              "      <td>1.0</td>\n",
              "      <td>1</td>\n",
              "      <td>1</td>\n",
              "      <td>1</td>\n",
              "      <td>0</td>\n",
              "      <td>0</td>\n",
              "      <td>0</td>\n",
              "      <td>0</td>\n",
              "      <td>0</td>\n",
              "      <td>0</td>\n",
              "      <td>1</td>\n",
              "    </tr>\n",
              "  </tbody>\n",
              "</table>\n",
              "</div>"
            ],
            "text/plain": [
              "     ApplicantIncome  CoapplicantIncome  ...  Property_Area_Urban  Loan_Status_Y\n",
              "457             3708             2569.0  ...                    1              0\n",
              "15              4950                0.0  ...                    1              1\n",
              "159             4583             5625.0  ...                    0              1\n",
              "523             7948             7166.0  ...                    0              1\n",
              "336             5250              688.0  ...                    0              1\n",
              "\n",
              "[5 rows x 15 columns]"
            ]
          },
          "metadata": {
            "tags": []
          },
          "execution_count": 127
        }
      ]
    },
    {
      "cell_type": "markdown",
      "metadata": {
        "id": "eBBc3r3pX0Hn"
      },
      "source": [
        "# check for outliers"
      ]
    },
    {
      "cell_type": "code",
      "metadata": {
        "id": "XCTc2CPJX0Hn",
        "colab": {
          "base_uri": "https://localhost:8080/"
        },
        "outputId": "93d2a4d0-f60c-4413-f5b9-827ed7939971"
      },
      "source": [
        "z = np.abs(stats.zscore(data)) #using it to fid the z score\n",
        "print(z)\n"
      ],
      "execution_count": null,
      "outputs": [
        {
          "output_type": "stream",
          "text": [
            "[[0.07299082 0.55448733 0.21124125 ... 0.7820157  1.42814704 0.67451931]\n",
            " [0.13441195 0.03873155 0.21124125 ... 0.7820157  0.70020801 1.48253724]\n",
            " [0.39374734 0.55448733 0.94899647 ... 0.7820157  1.42814704 0.67451931]\n",
            " ...\n",
            " [0.43717437 0.47240418 1.27616847 ... 0.7820157  1.42814704 0.67451931]\n",
            " [0.35706382 0.55448733 0.49081614 ... 0.7820157  1.42814704 0.67451931]\n",
            " [0.13441195 0.55448733 0.15174486 ... 1.2787467  0.70020801 1.48253724]]\n"
          ],
          "name": "stdout"
        }
      ]
    },
    {
      "cell_type": "code",
      "metadata": {
        "id": "w404kWbOyLIK",
        "colab": {
          "base_uri": "https://localhost:8080/"
        },
        "outputId": "203d7347-9398-47ac-a4a7-0fc534eee366"
      },
      "source": [
        "zt = np.abs(stats.zscore(data_t)) #using it to fid the z score\n",
        "print(zt)\n"
      ],
      "execution_count": null,
      "outputs": [
        {
          "output_type": "stream",
          "text": [
            "[[0.1864605  0.67333511 0.42677996 ... 0.33484506 0.67981718 1.27335328]\n",
            " [0.35269225 0.02984821 0.16395333 ... 0.33484506 0.67981718 1.27335328]\n",
            " [0.0396413  0.09884917 1.18303317 ... 0.33484506 0.67981718 1.27335328]\n",
            " ...\n",
            " [0.31721094 0.18164449 0.16395333 ... 0.33484506 1.47098372 0.78532801]\n",
            " [0.0396413  0.353241   0.36169994 ... 0.33484506 0.67981718 0.78532801]\n",
            " [0.89608667 0.67333511 0.62389994 ... 2.98645591 0.67981718 0.78532801]]\n"
          ],
          "name": "stdout"
        }
      ]
    },
    {
      "cell_type": "code",
      "metadata": {
        "id": "2uMkgZl4X0Ho",
        "colab": {
          "base_uri": "https://localhost:8080/"
        },
        "outputId": "c8ca9c71-90b4-4708-aecb-b87476190bce"
      },
      "source": [
        "threshold = 3\n",
        "print(np.where(z > 3)) "
      ],
      "execution_count": null,
      "outputs": [
        {
          "output_type": "stream",
          "text": [
            "(array([  7,   9,  14,  34,  61,  68,  68,  73,  74,  78,  79,  94, 109,\n",
            "       126, 126, 130, 133, 135, 155, 155, 155, 171, 171, 171, 172, 177,\n",
            "       177, 177, 183, 185, 202, 211, 213, 215, 242, 255, 257, 259, 262,\n",
            "       267, 278, 295, 308, 313, 321, 324, 333, 333, 338, 340, 343, 352,\n",
            "       359, 369, 376, 390, 391, 402, 409, 409, 417, 432, 442, 443, 461,\n",
            "       466, 472, 481, 487, 495, 497, 506, 515, 522, 523, 525, 531, 539,\n",
            "       546, 557, 561, 567, 574, 575, 581, 585, 592, 600, 600, 602, 604,\n",
            "       610]), array([9, 1, 3, 9, 9, 3, 9, 9, 9, 9, 9, 3, 9, 0, 9, 2, 3, 9, 0, 2, 9, 0,\n",
            "       2, 9, 9, 1, 2, 9, 0, 0, 9, 9, 9, 9, 3, 9, 9, 9, 3, 9, 2, 9, 2, 3,\n",
            "       9, 9, 0, 2, 9, 9, 9, 9, 9, 2, 9, 9, 9, 1, 0, 9, 1, 2, 9, 0, 9, 9,\n",
            "       9, 9, 2, 3, 3, 2, 9, 9, 2, 2, 9, 9, 3, 9, 2, 9, 9, 3, 1, 3, 9, 1,\n",
            "       9, 9, 2, 9]))\n"
          ],
          "name": "stdout"
        }
      ]
    },
    {
      "cell_type": "code",
      "metadata": {
        "id": "aNkn77V6yS6_"
      },
      "source": [
        "#threshold = 3\n",
        "#print(np.where(zt > 3)) "
      ],
      "execution_count": null,
      "outputs": []
    },
    {
      "cell_type": "code",
      "metadata": {
        "id": "-Wedw_EXtgQ5",
        "colab": {
          "base_uri": "https://localhost:8080/",
          "height": 408
        },
        "outputId": "6bca8764-0ea0-42d3-d046-0c0266569389"
      },
      "source": [
        "sns.boxplot(data[\"ApplicantIncome\"])"
      ],
      "execution_count": null,
      "outputs": [
        {
          "output_type": "stream",
          "text": [
            "/usr/local/lib/python3.6/dist-packages/seaborn/_decorators.py:43: FutureWarning: Pass the following variable as a keyword arg: x. From version 0.12, the only valid positional argument will be `data`, and passing other arguments without an explicit keyword will result in an error or misinterpretation.\n",
            "  FutureWarning\n"
          ],
          "name": "stderr"
        },
        {
          "output_type": "execute_result",
          "data": {
            "text/plain": [
              "<matplotlib.axes._subplots.AxesSubplot at 0x7fd58c3e4e80>"
            ]
          },
          "metadata": {
            "tags": []
          },
          "execution_count": 132
        },
        {
          "output_type": "display_data",
          "data": {
            "image/png": "[encoded data removed]",
            "text/plain": [
              "<Figure size 360x360 with 1 Axes>"
            ]
          },
          "metadata": {
            "tags": [],
            "needs_background": "light"
          }
        }
      ]
    },
    {
      "cell_type": "code",
      "metadata": {
        "id": "RyxSysnWvyLc",
        "colab": {
          "base_uri": "https://localhost:8080/",
          "height": 408
        },
        "outputId": "6608a9cf-983b-4928-f3bb-495439abf933"
      },
      "source": [
        "sns.boxplot(data[\"LoanAmount\"])"
      ],
      "execution_count": null,
      "outputs": [
        {
          "output_type": "stream",
          "text": [
            "/usr/local/lib/python3.6/dist-packages/seaborn/_decorators.py:43: FutureWarning: Pass the following variable as a keyword arg: x. From version 0.12, the only valid positional argument will be `data`, and passing other arguments without an explicit keyword will result in an error or misinterpretation.\n",
            "  FutureWarning\n"
          ],
          "name": "stderr"
        },
        {
          "output_type": "execute_result",
          "data": {
            "text/plain": [
              "<matplotlib.axes._subplots.AxesSubplot at 0x7fd58c19c8d0>"
            ]
          },
          "metadata": {
            "tags": []
          },
          "execution_count": 133
        },
        {
          "output_type": "display_data",
          "data": {
            "image/png": "[encoded data removed]",
            "text/plain": [
              "<Figure size 360x360 with 1 Axes>"
            ]
          },
          "metadata": {
            "tags": [],
            "needs_background": "light"
          }
        }
      ]
    },
    {
      "cell_type": "code",
      "metadata": {
        "colab": {
          "base_uri": "https://localhost:8080/",
          "height": 408
        },
        "id": "q-FtSzzWwJV5",
        "outputId": "881814fb-7260-4260-9fb6-3b5248a46000"
      },
      "source": [
        "sns.boxplot(data[\"Loan_Amount_Term\"])"
      ],
      "execution_count": null,
      "outputs": [
        {
          "output_type": "stream",
          "text": [
            "/usr/local/lib/python3.6/dist-packages/seaborn/_decorators.py:43: FutureWarning: Pass the following variable as a keyword arg: x. From version 0.12, the only valid positional argument will be `data`, and passing other arguments without an explicit keyword will result in an error or misinterpretation.\n",
            "  FutureWarning\n"
          ],
          "name": "stderr"
        },
        {
          "output_type": "execute_result",
          "data": {
            "text/plain": [
              "<matplotlib.axes._subplots.AxesSubplot at 0x7fd58c0748d0>"
            ]
          },
          "metadata": {
            "tags": []
          },
          "execution_count": 134
        },
        {
          "output_type": "display_data",
          "data": {
            "image/png": "[encoded data removed]",
            "text/plain": [
              "<Figure size 360x360 with 1 Axes>"
            ]
          },
          "metadata": {
            "tags": [],
            "needs_background": "light"
          }
        }
      ]
    },
    {
      "cell_type": "code",
      "metadata": {
        "colab": {
          "base_uri": "https://localhost:8080/",
          "height": 408
        },
        "id": "xjjSuRxRwJsb",
        "outputId": "42208fc2-9b85-4ef6-af5e-d2c959478fe3"
      },
      "source": [
        "sns.boxplot(data[\"CoapplicantIncome\"])"
      ],
      "execution_count": null,
      "outputs": [
        {
          "output_type": "stream",
          "text": [
            "/usr/local/lib/python3.6/dist-packages/seaborn/_decorators.py:43: FutureWarning: Pass the following variable as a keyword arg: x. From version 0.12, the only valid positional argument will be `data`, and passing other arguments without an explicit keyword will result in an error or misinterpretation.\n",
            "  FutureWarning\n"
          ],
          "name": "stderr"
        },
        {
          "output_type": "execute_result",
          "data": {
            "text/plain": [
              "<matplotlib.axes._subplots.AxesSubplot at 0x7fd58bf8c8d0>"
            ]
          },
          "metadata": {
            "tags": []
          },
          "execution_count": 135
        },
        {
          "output_type": "display_data",
          "data": {
            "image/png": "[encoded data removed]",
            "text/plain": [
              "<Figure size 360x360 with 1 Axes>"
            ]
          },
          "metadata": {
            "tags": [],
            "needs_background": "light"
          }
        }
      ]
    },
    {
      "cell_type": "code",
      "metadata": {
        "colab": {
          "base_uri": "https://localhost:8080/"
        },
        "id": "YN-S2bt-xJBd",
        "outputId": "232c1c78-4c7d-4001-b1a6-7556f26a93f3"
      },
      "source": [
        "data = data[(z < 3).all(axis=1)]\n",
        "data.shape"
      ],
      "execution_count": null,
      "outputs": [
        {
          "output_type": "execute_result",
          "data": {
            "text/plain": [
              "(533, 15)"
            ]
          },
          "metadata": {
            "tags": []
          },
          "execution_count": 136
        }
      ]
    },
    {
      "cell_type": "markdown",
      "metadata": {
        "id": "I3eVkNM_rn50"
      },
      "source": [
        "# HEAT MAP"
      ]
    },
    {
      "cell_type": "code",
      "metadata": {
        "colab": {
          "base_uri": "https://localhost:8080/",
          "height": 1000
        },
        "id": "stXAd-wTX0Ho",
        "outputId": "9ffe681c-9fdc-4842-f67b-b1daf738e536"
      },
      "source": [
        "corrmat = data.corr()\n",
        "top_corr_features = corrmat.index\n",
        "plt.figure(figsize=(20,20))\n",
        "#plot heat map\n",
        "g=sns.heatmap(data[top_corr_features].corr(),annot=True,cmap=\"RdYlGn\")"
      ],
      "execution_count": null,
      "outputs": [
        {
          "output_type": "display_data",
          "data": {
            "image/png": "[encoded data removed]",
            "text/plain": [
              "<Figure size 1440x1440 with 2 Axes>"
            ]
          },
          "metadata": {
            "tags": [],
            "needs_background": "light"
          }
        }
      ]
    },
    {
      "cell_type": "code",
      "metadata": {
        "colab": {
          "base_uri": "https://localhost:8080/",
          "height": 436
        },
        "id": "0D5uSSbt8Hrl",
        "outputId": "5f1822f7-7f18-4686-e5aa-3101b0ed17ac"
      },
      "source": [
        "y=data['Loan_Status_Y']   #making y target\n",
        "data =data.drop('Loan_Status_Y', axis = 1)  #removing y from table\n",
        "x=data\n",
        "x"
      ],
      "execution_count": null,
      "outputs": [
        {
          "output_type": "execute_result",
          "data": {
            "text/html": [
              "<div>\n",
              "<style scoped>\n",
              "    .dataframe tbody tr th:only-of-type {\n",
              "        vertical-align: middle;\n",
              "    }\n",
              "\n",
              "    .dataframe tbody tr th {\n",
              "        vertical-align: top;\n",
              "    }\n",
              "\n",
              "    .dataframe thead th {\n",
              "        text-align: right;\n",
              "    }\n",
              "</style>\n",
              "<table border=\"1\" class=\"dataframe\">\n",
              "  <thead>\n",
              "    <tr style=\"text-align: right;\">\n",
              "      <th></th>\n",
              "      <th>ApplicantIncome</th>\n",
              "      <th>CoapplicantIncome</th>\n",
              "      <th>LoanAmount</th>\n",
              "      <th>Loan_Amount_Term</th>\n",
              "      <th>Credit_History</th>\n",
              "      <th>Gender_Male</th>\n",
              "      <th>Married_Yes</th>\n",
              "      <th>Dependents_1</th>\n",
              "      <th>Dependents_2</th>\n",
              "      <th>Dependents_3+</th>\n",
              "      <th>Education_Not Graduate</th>\n",
              "      <th>Self_Employed_Yes</th>\n",
              "      <th>Property_Area_Semiurban</th>\n",
              "      <th>Property_Area_Urban</th>\n",
              "    </tr>\n",
              "  </thead>\n",
              "  <tbody>\n",
              "    <tr>\n",
              "      <th>0</th>\n",
              "      <td>5849</td>\n",
              "      <td>0.0</td>\n",
              "      <td>128.0</td>\n",
              "      <td>360.0</td>\n",
              "      <td>1.0</td>\n",
              "      <td>1</td>\n",
              "      <td>0</td>\n",
              "      <td>0</td>\n",
              "      <td>0</td>\n",
              "      <td>0</td>\n",
              "      <td>0</td>\n",
              "      <td>0</td>\n",
              "      <td>0</td>\n",
              "      <td>1</td>\n",
              "    </tr>\n",
              "    <tr>\n",
              "      <th>1</th>\n",
              "      <td>4583</td>\n",
              "      <td>1508.0</td>\n",
              "      <td>128.0</td>\n",
              "      <td>360.0</td>\n",
              "      <td>1.0</td>\n",
              "      <td>1</td>\n",
              "      <td>1</td>\n",
              "      <td>1</td>\n",
              "      <td>0</td>\n",
              "      <td>0</td>\n",
              "      <td>0</td>\n",
              "      <td>0</td>\n",
              "      <td>0</td>\n",
              "      <td>0</td>\n",
              "    </tr>\n",
              "    <tr>\n",
              "      <th>2</th>\n",
              "      <td>3000</td>\n",
              "      <td>0.0</td>\n",
              "      <td>66.0</td>\n",
              "      <td>360.0</td>\n",
              "      <td>1.0</td>\n",
              "      <td>1</td>\n",
              "      <td>1</td>\n",
              "      <td>0</td>\n",
              "      <td>0</td>\n",
              "      <td>0</td>\n",
              "      <td>0</td>\n",
              "      <td>1</td>\n",
              "      <td>0</td>\n",
              "      <td>1</td>\n",
              "    </tr>\n",
              "    <tr>\n",
              "      <th>3</th>\n",
              "      <td>2583</td>\n",
              "      <td>2358.0</td>\n",
              "      <td>120.0</td>\n",
              "      <td>360.0</td>\n",
              "      <td>1.0</td>\n",
              "      <td>1</td>\n",
              "      <td>1</td>\n",
              "      <td>0</td>\n",
              "      <td>0</td>\n",
              "      <td>0</td>\n",
              "      <td>1</td>\n",
              "      <td>0</td>\n",
              "      <td>0</td>\n",
              "      <td>1</td>\n",
              "    </tr>\n",
              "    <tr>\n",
              "      <th>4</th>\n",
              "      <td>6000</td>\n",
              "      <td>0.0</td>\n",
              "      <td>141.0</td>\n",
              "      <td>360.0</td>\n",
              "      <td>1.0</td>\n",
              "      <td>1</td>\n",
              "      <td>0</td>\n",
              "      <td>0</td>\n",
              "      <td>0</td>\n",
              "      <td>0</td>\n",
              "      <td>0</td>\n",
              "      <td>0</td>\n",
              "      <td>0</td>\n",
              "      <td>1</td>\n",
              "    </tr>\n",
              "    <tr>\n",
              "      <th>...</th>\n",
              "      <td>...</td>\n",
              "      <td>...</td>\n",
              "      <td>...</td>\n",
              "      <td>...</td>\n",
              "      <td>...</td>\n",
              "      <td>...</td>\n",
              "      <td>...</td>\n",
              "      <td>...</td>\n",
              "      <td>...</td>\n",
              "      <td>...</td>\n",
              "      <td>...</td>\n",
              "      <td>...</td>\n",
              "      <td>...</td>\n",
              "      <td>...</td>\n",
              "    </tr>\n",
              "    <tr>\n",
              "      <th>608</th>\n",
              "      <td>3232</td>\n",
              "      <td>1950.0</td>\n",
              "      <td>108.0</td>\n",
              "      <td>360.0</td>\n",
              "      <td>1.0</td>\n",
              "      <td>1</td>\n",
              "      <td>1</td>\n",
              "      <td>0</td>\n",
              "      <td>0</td>\n",
              "      <td>0</td>\n",
              "      <td>0</td>\n",
              "      <td>0</td>\n",
              "      <td>0</td>\n",
              "      <td>0</td>\n",
              "    </tr>\n",
              "    <tr>\n",
              "      <th>609</th>\n",
              "      <td>2900</td>\n",
              "      <td>0.0</td>\n",
              "      <td>71.0</td>\n",
              "      <td>360.0</td>\n",
              "      <td>1.0</td>\n",
              "      <td>0</td>\n",
              "      <td>0</td>\n",
              "      <td>0</td>\n",
              "      <td>0</td>\n",
              "      <td>0</td>\n",
              "      <td>0</td>\n",
              "      <td>0</td>\n",
              "      <td>0</td>\n",
              "      <td>0</td>\n",
              "    </tr>\n",
              "    <tr>\n",
              "      <th>611</th>\n",
              "      <td>8072</td>\n",
              "      <td>240.0</td>\n",
              "      <td>253.0</td>\n",
              "      <td>360.0</td>\n",
              "      <td>1.0</td>\n",
              "      <td>1</td>\n",
              "      <td>1</td>\n",
              "      <td>1</td>\n",
              "      <td>0</td>\n",
              "      <td>0</td>\n",
              "      <td>0</td>\n",
              "      <td>0</td>\n",
              "      <td>0</td>\n",
              "      <td>1</td>\n",
              "    </tr>\n",
              "    <tr>\n",
              "      <th>612</th>\n",
              "      <td>7583</td>\n",
              "      <td>0.0</td>\n",
              "      <td>187.0</td>\n",
              "      <td>360.0</td>\n",
              "      <td>1.0</td>\n",
              "      <td>1</td>\n",
              "      <td>1</td>\n",
              "      <td>0</td>\n",
              "      <td>1</td>\n",
              "      <td>0</td>\n",
              "      <td>0</td>\n",
              "      <td>0</td>\n",
              "      <td>0</td>\n",
              "      <td>1</td>\n",
              "    </tr>\n",
              "    <tr>\n",
              "      <th>613</th>\n",
              "      <td>4583</td>\n",
              "      <td>0.0</td>\n",
              "      <td>133.0</td>\n",
              "      <td>360.0</td>\n",
              "      <td>0.0</td>\n",
              "      <td>0</td>\n",
              "      <td>0</td>\n",
              "      <td>0</td>\n",
              "      <td>0</td>\n",
              "      <td>0</td>\n",
              "      <td>0</td>\n",
              "      <td>1</td>\n",
              "      <td>1</td>\n",
              "      <td>0</td>\n",
              "    </tr>\n",
              "  </tbody>\n",
              "</table>\n",
              "<p>533 rows × 14 columns</p>\n",
              "</div>"
            ],
            "text/plain": [
              "     ApplicantIncome  ...  Property_Area_Urban\n",
              "0               5849  ...                    1\n",
              "1               4583  ...                    0\n",
              "2               3000  ...                    1\n",
              "3               2583  ...                    1\n",
              "4               6000  ...                    1\n",
              "..               ...  ...                  ...\n",
              "608             3232  ...                    0\n",
              "609             2900  ...                    0\n",
              "611             8072  ...                    1\n",
              "612             7583  ...                    1\n",
              "613             4583  ...                    0\n",
              "\n",
              "[533 rows x 14 columns]"
            ]
          },
          "metadata": {
            "tags": []
          },
          "execution_count": 138
        }
      ]
    },
    {
      "cell_type": "code",
      "metadata": {
        "colab": {
          "base_uri": "https://localhost:8080/"
        },
        "id": "IbM4sSUS9Cuf",
        "outputId": "23de3e32-e22e-4255-acbb-e7a928e7d237"
      },
      "source": [
        "y.shape\n"
      ],
      "execution_count": null,
      "outputs": [
        {
          "output_type": "execute_result",
          "data": {
            "text/plain": [
              "(533,)"
            ]
          },
          "metadata": {
            "tags": []
          },
          "execution_count": 139
        }
      ]
    },
    {
      "cell_type": "code",
      "metadata": {
        "colab": {
          "base_uri": "https://localhost:8080/"
        },
        "id": "XqfHonKl9Gc0",
        "outputId": "fac79596-bbc0-4584-c26c-bfe1e0a4c55d"
      },
      "source": [
        "x.shape\n"
      ],
      "execution_count": null,
      "outputs": [
        {
          "output_type": "execute_result",
          "data": {
            "text/plain": [
              "(533, 14)"
            ]
          },
          "metadata": {
            "tags": []
          },
          "execution_count": 140
        }
      ]
    },
    {
      "cell_type": "markdown",
      "metadata": {
        "id": "CplECOny03Kg"
      },
      "source": [
        "# **FEATURE SCALING**"
      ]
    },
    {
      "cell_type": "code",
      "metadata": {
        "colab": {
          "base_uri": "https://localhost:8080/",
          "height": 427
        },
        "id": "0xTOIv0rywr8",
        "outputId": "95c90ef9-8e49-44ba-f088-ab965d9238ad"
      },
      "source": [
        "scaled_data = minmax_scale(data)\n",
        "# plot both together to compare\n",
        "fig, ax=plt.subplots(1,2)\n",
        "sns.distplot(data, ax=ax[0], color='y')\n",
        "ax[0].set_title(\"Original Data\")\n",
        "sns.distplot(scaled_data, ax=ax[1])\n",
        "ax[1].set_title(\"Scaled data\")\n",
        "plt.show()"
      ],
      "execution_count": null,
      "outputs": [
        {
          "output_type": "stream",
          "text": [
            "/usr/local/lib/python3.6/dist-packages/seaborn/distributions.py:2551: FutureWarning: `distplot` is a deprecated function and will be removed in a future version. Please adapt your code to use either `displot` (a figure-level function with similar flexibility) or `histplot` (an axes-level function for histograms).\n",
            "  warnings.warn(msg, FutureWarning)\n",
            "/usr/local/lib/python3.6/dist-packages/seaborn/distributions.py:2551: FutureWarning: `distplot` is a deprecated function and will be removed in a future version. Please adapt your code to use either `displot` (a figure-level function with similar flexibility) or `histplot` (an axes-level function for histograms).\n",
            "  warnings.warn(msg, FutureWarning)\n"
          ],
          "name": "stderr"
        },
        {
          "output_type": "display_data",
          "data": {
            "image/png": "[encoded data removed]",
            "text/plain": [
              "<Figure size 360x360 with 2 Axes>"
            ]
          },
          "metadata": {
            "tags": [],
            "needs_background": "light"
          }
        }
      ]
    },
    {
      "cell_type": "code",
      "metadata": {
        "id": "hHTimK55-zRI"
      },
      "source": [
        "x=scaled_data"
      ],
      "execution_count": null,
      "outputs": []
    },
    {
      "cell_type": "code",
      "metadata": {
        "colab": {
          "base_uri": "https://localhost:8080/"
        },
        "id": "N8g22Sju-4S2",
        "outputId": "6f761cff-a9e0-4cf3-9669-9a7963b6df82"
      },
      "source": [
        "x"
      ],
      "execution_count": null,
      "outputs": [
        {
          "output_type": "execute_result",
          "data": {
            "text/plain": [
              "array([[0.27776965, 0.        , 0.32075472, ..., 0.        , 0.        ,\n",
              "        1.        ],\n",
              "       [0.21606473, 0.16792873, 0.32075472, ..., 0.        , 0.        ,\n",
              "        0.        ],\n",
              "       [0.1389092 , 0.        , 0.15363881, ..., 1.        , 0.        ,\n",
              "        1.        ],\n",
              "       ...,\n",
              "       [0.38611883, 0.02672606, 0.65768194, ..., 0.        , 0.        ,\n",
              "        1.        ],\n",
              "       [0.36228493, 0.        , 0.47978437, ..., 0.        , 0.        ,\n",
              "        1.        ],\n",
              "       [0.21606473, 0.        , 0.33423181, ..., 1.        , 1.        ,\n",
              "        0.        ]])"
            ]
          },
          "metadata": {
            "tags": []
          },
          "execution_count": 143
        }
      ]
    },
    {
      "cell_type": "markdown",
      "metadata": {
        "id": "2EEroqIB_HlF"
      },
      "source": [
        "# **MODELLING**"
      ]
    },
    {
      "cell_type": "code",
      "metadata": {
        "colab": {
          "base_uri": "https://localhost:8080/"
        },
        "id": "fc9jS0eU_Mzj",
        "outputId": "d4244f74-53e4-4861-d1fc-b53789ae93a8"
      },
      "source": [
        "x_train, x_test, y_train, y_test = train_test_split(x,y,test_size=0.3,random_state=42)\n",
        "print ('Train set:', x_train.shape,  y_train.shape)\n",
        "print ('Test set:', x_test.shape,  y_test.shape)"
      ],
      "execution_count": null,
      "outputs": [
        {
          "output_type": "stream",
          "text": [
            "Train set: (373, 14) (373,)\n",
            "Test set: (160, 14) (160,)\n"
          ],
          "name": "stdout"
        }
      ]
    },
    {
      "cell_type": "code",
      "metadata": {
        "id": "cI21a-gKyn09"
      },
      "source": [
        "Loan_ID=testdata['Loan_ID']\n",
        "#for submission file format"
      ],
      "execution_count": null,
      "outputs": []
    },
    {
      "cell_type": "markdown",
      "metadata": {
        "id": "yBNm-cnmJ7oK"
      },
      "source": [
        "## **XGBOOST**"
      ]
    },
    {
      "cell_type": "code",
      "metadata": {
        "colab": {
          "base_uri": "https://localhost:8080/"
        },
        "id": "ZGk03tFjKEmL",
        "outputId": "c0d498e7-179f-480e-e19a-095a1f9dd9d9"
      },
      "source": [
        "xgb = XGBClassifier(n_estimators=300,learning_rate=0.05, random_state=1, max_depth=4, gamma=1, colsample_bytree=0.3,subsample=0.8,reg_lambda=2)\n",
        "xgb.fit(x_train, y_train)"
      ],
      "execution_count": null,
      "outputs": [
        {
          "output_type": "execute_result",
          "data": {
            "text/plain": [
              "XGBClassifier(base_score=0.5, booster='gbtree', colsample_bylevel=1,\n",
              "              colsample_bynode=1, colsample_bytree=0.3, gamma=1,\n",
              "              learning_rate=0.05, max_delta_step=0, max_depth=4,\n",
              "              min_child_weight=1, missing=None, n_estimators=300, n_jobs=1,\n",
              "              nthread=None, objective='binary:logistic', random_state=1,\n",
              "              reg_alpha=0, reg_lambda=2, scale_pos_weight=1, seed=None,\n",
              "              silent=None, subsample=0.8, verbosity=1)"
            ]
          },
          "metadata": {
            "tags": []
          },
          "execution_count": 146
        }
      ]
    },
    {
      "cell_type": "code",
      "metadata": {
        "colab": {
          "base_uri": "https://localhost:8080/"
        },
        "id": "SXrb4LY3KV5P",
        "outputId": "33f6533c-59ad-46bd-9d53-b8f1079a0d5e"
      },
      "source": [
        "preds = xgb.predict(x_test)\n",
        "xgb_ac=xgb.score(x_test, y_test)\n",
        "print(\"Training Accuracy :\", xgb.score(x_train, y_train))\n",
        "print(\"Testing Accuracy :\", xgb_ac)\n",
        "\n",
        "\n",
        "print(\"Mean Absolute Error : \" + str(mean_absolute_error(preds,y_test)))\n"
      ],
      "execution_count": null,
      "outputs": [
        {
          "output_type": "stream",
          "text": [
            "Training Accuracy : 0.8525469168900804\n",
            "Testing Accuracy : 0.80625\n",
            "Mean Absolute Error : 47.81875\n"
          ],
          "name": "stdout"
        }
      ]
    },
    {
      "cell_type": "code",
      "metadata": {
        "colab": {
          "base_uri": "https://localhost:8080/",
          "height": 480
        },
        "id": "jsmxquennXTn",
        "outputId": "0faa0cd4-a773-46ba-d549-5331b6bb09f2"
      },
      "source": [
        "# cofusion matrix\n",
        "cm = confusion_matrix(y_test, preds)\n",
        "plt.rcParams['figure.figsize'] = (5, 5)\n",
        "sns.heatmap(cm, annot = True, annot_kws = {'size':15}, cmap = 'PuBu', fmt='g')\n",
        "\n",
        "# classification report\n",
        "cr = classification_report(y_test, preds)\n",
        "print(cr)\n"
      ],
      "execution_count": null,
      "outputs": [
        {
          "output_type": "stream",
          "text": [
            "              precision    recall  f1-score   support\n",
            "\n",
            "           0       0.95      0.39      0.55        49\n",
            "           1       0.79      0.99      0.88       111\n",
            "\n",
            "    accuracy                           0.81       160\n",
            "   macro avg       0.87      0.69      0.71       160\n",
            "weighted avg       0.84      0.81      0.78       160\n",
            "\n"
          ],
          "name": "stdout"
        },
        {
          "output_type": "display_data",
          "data": {
            "image/png": "[encoded data removed]",
            "text/plain": [
              "<Figure size 360x360 with 2 Axes>"
            ]
          },
          "metadata": {
            "tags": [],
            "needs_background": "light"
          }
        }
      ]
    },
    {
      "cell_type": "code",
      "metadata": {
        "colab": {
          "base_uri": "https://localhost:8080/",
          "height": 399
        },
        "id": "VwoE6pPcW_DO",
        "outputId": "09ef14d4-4db1-42b9-998a-5b0052affe60"
      },
      "source": [
        "pred_actual =pd.DataFrame({'predicted':preds, 'actual': y_test})\n",
        "pred_actual"
      ],
      "execution_count": null,
      "outputs": [
        {
          "output_type": "execute_result",
          "data": {
            "text/html": [
              "<div>\n",
              "<style scoped>\n",
              "    .dataframe tbody tr th:only-of-type {\n",
              "        vertical-align: middle;\n",
              "    }\n",
              "\n",
              "    .dataframe tbody tr th {\n",
              "        vertical-align: top;\n",
              "    }\n",
              "\n",
              "    .dataframe thead th {\n",
              "        text-align: right;\n",
              "    }\n",
              "</style>\n",
              "<table border=\"1\" class=\"dataframe\">\n",
              "  <thead>\n",
              "    <tr style=\"text-align: right;\">\n",
              "      <th></th>\n",
              "      <th>predicted</th>\n",
              "      <th>actual</th>\n",
              "    </tr>\n",
              "  </thead>\n",
              "  <tbody>\n",
              "    <tr>\n",
              "      <th>6</th>\n",
              "      <td>1</td>\n",
              "      <td>1</td>\n",
              "    </tr>\n",
              "    <tr>\n",
              "      <th>559</th>\n",
              "      <td>1</td>\n",
              "      <td>1</td>\n",
              "    </tr>\n",
              "    <tr>\n",
              "      <th>116</th>\n",
              "      <td>1</td>\n",
              "      <td>1</td>\n",
              "    </tr>\n",
              "    <tr>\n",
              "      <th>556</th>\n",
              "      <td>1</td>\n",
              "      <td>1</td>\n",
              "    </tr>\n",
              "    <tr>\n",
              "      <th>510</th>\n",
              "      <td>1</td>\n",
              "      <td>0</td>\n",
              "    </tr>\n",
              "    <tr>\n",
              "      <th>...</th>\n",
              "      <td>...</td>\n",
              "      <td>...</td>\n",
              "    </tr>\n",
              "    <tr>\n",
              "      <th>125</th>\n",
              "      <td>1</td>\n",
              "      <td>1</td>\n",
              "    </tr>\n",
              "    <tr>\n",
              "      <th>194</th>\n",
              "      <td>1</td>\n",
              "      <td>1</td>\n",
              "    </tr>\n",
              "    <tr>\n",
              "      <th>270</th>\n",
              "      <td>1</td>\n",
              "      <td>1</td>\n",
              "    </tr>\n",
              "    <tr>\n",
              "      <th>451</th>\n",
              "      <td>1</td>\n",
              "      <td>1</td>\n",
              "    </tr>\n",
              "    <tr>\n",
              "      <th>62</th>\n",
              "      <td>0</td>\n",
              "      <td>0</td>\n",
              "    </tr>\n",
              "  </tbody>\n",
              "</table>\n",
              "<p>160 rows × 2 columns</p>\n",
              "</div>"
            ],
            "text/plain": [
              "     predicted  actual\n",
              "6            1       1\n",
              "559          1       1\n",
              "116          1       1\n",
              "556          1       1\n",
              "510          1       0\n",
              "..         ...     ...\n",
              "125          1       1\n",
              "194          1       1\n",
              "270          1       1\n",
              "451          1       1\n",
              "62           0       0\n",
              "\n",
              "[160 rows x 2 columns]"
            ]
          },
          "metadata": {
            "tags": []
          },
          "execution_count": 149
        }
      ]
    },
    {
      "cell_type": "code",
      "metadata": {
        "id": "EqXOPGy90x3E"
      },
      "source": [
        ""
      ],
      "execution_count": null,
      "outputs": []
    },
    {
      "cell_type": "code",
      "metadata": {
        "id": "icl4PIX_Avy4"
      },
      "source": [
        "test_predictions = xgb.predict(data_t.values)#.....test test file"
      ],
      "execution_count": null,
      "outputs": []
    },
    {
      "cell_type": "code",
      "metadata": {
        "id": "Wtymn0YWCZrA"
      },
      "source": [
        "submission1 = pd.DataFrame({\"Loan_ID\": Loan_ID, \"Loan_Status\": test_predictions})#make submission file"
      ],
      "execution_count": null,
      "outputs": []
    },
    {
      "cell_type": "code",
      "metadata": {
        "id": "7PxnscYQbqEb"
      },
      "source": [
        "submission1[\"Loan_Status\"].replace((1, 0), (\"Y\", \"N\"), inplace=True)"
      ],
      "execution_count": null,
      "outputs": []
    },
    {
      "cell_type": "code",
      "metadata": {
        "id": "VLUlE8lKZsbt"
      },
      "source": [
        "submission1.to_csv('submission1.csv', index=False) "
      ],
      "execution_count": null,
      "outputs": []
    },
    {
      "cell_type": "code",
      "metadata": {
        "colab": {
          "base_uri": "https://localhost:8080/"
        },
        "id": "Un7iUf_Cal59",
        "outputId": "48ba58c2-9a6d-441a-bc14-3e745806111f"
      },
      "source": [
        "import csv\n",
        "with open('/content/submission1.csv') as f:\n",
        "   reader = csv.reader(f)\n",
        "   your_list = list(reader)\n",
        "\n",
        "print (your_list)"
      ],
      "execution_count": null,
      "outputs": [
        {
          "output_type": "stream",
          "text": [
            "[['Loan_ID', 'Loan_Status'], ['LP001015', 'N'], ['LP001022', 'Y'], ['LP001031', 'Y'], ['LP001035', 'Y'], ['LP001051', 'N'], ['LP001054', 'Y'], ['LP001055', 'N'], ['LP001056', 'N'], ['LP001059', 'Y'], ['LP001067', 'Y'], ['LP001078', 'N'], ['LP001082', 'Y'], ['LP001083', 'N'], ['LP001094', 'N'], ['LP001096', 'N'], ['LP001099', 'N'], ['LP001105', 'Y'], ['LP001107', 'Y'], ['LP001108', 'Y'], ['LP001115', 'Y'], ['LP001121', 'Y'], ['LP001124', 'N'], ['LP001128', 'N'], ['LP001135', 'N'], ['LP001149', 'Y'], ['LP001153', 'N'], ['LP001163', 'Y'], ['LP001169', 'Y'], ['LP001174', 'Y'], ['LP001176', 'N'], ['LP001177', 'N'], ['LP001183', 'Y'], ['LP001185', 'Y'], ['LP001187', 'Y'], ['LP001190', 'Y'], ['LP001203', 'N'], ['LP001208', 'Y'], ['LP001210', 'Y'], ['LP001211', 'N'], ['LP001219', 'N'], ['LP001220', 'Y'], ['LP001221', 'N'], ['LP001226', 'Y'], ['LP001230', 'Y'], ['LP001231', 'N'], ['LP001232', 'N'], ['LP001237', 'Y'], ['LP001242', 'Y'], ['LP001268', 'N'], ['LP001270', 'Y'], ['LP001284', 'Y'], ['LP001287', 'Y'], ['LP001291', 'Y'], ['LP001298', 'Y'], ['LP001312', 'N'], ['LP001313', 'N'], ['LP001317', 'N'], ['LP001321', 'Y'], ['LP001323', 'N'], ['LP001324', 'N'], ['LP001332', 'Y'], ['LP001335', 'Y'], ['LP001338', 'Y'], ['LP001347', 'N'], ['LP001348', 'N'], ['LP001351', 'Y'], ['LP001352', 'N'], ['LP001358', 'N'], ['LP001359', 'N'], ['LP001361', 'N'], ['LP001366', 'N'], ['LP001368', 'N'], ['LP001375', 'Y'], ['LP001380', 'Y'], ['LP001386', 'Y'], ['LP001400', 'N'], ['LP001407', 'Y'], ['LP001413', 'N'], ['LP001415', 'Y'], ['LP001419', 'N'], ['LP001420', 'N'], ['LP001428', 'N'], ['LP001445', 'N'], ['LP001446', 'N'], ['LP001450', 'N'], ['LP001452', 'Y'], ['LP001455', 'Y'], ['LP001466', 'N'], ['LP001471', 'Y'], ['LP001472', 'N'], ['LP001475', 'N'], ['LP001483', 'N'], ['LP001486', 'Y'], ['LP001490', 'Y'], ['LP001496', 'N'], ['LP001499', 'N'], ['LP001500', 'Y'], ['LP001501', 'Y'], ['LP001517', 'N'], ['LP001527', 'N'], ['LP001534', 'N'], ['LP001542', 'N'], ['LP001547', 'N'], ['LP001548', 'Y'], ['LP001558', 'N'], ['LP001561', 'Y'], ['LP001563', 'N'], ['LP001567', 'N'], ['LP001568', 'N'], ['LP001573', 'Y'], ['LP001584', 'N'], ['LP001587', 'N'], ['LP001589', 'N'], ['LP001591', 'Y'], ['LP001599', 'Y'], ['LP001601', 'N'], ['LP001607', 'Y'], ['LP001611', 'N'], ['LP001613', 'N'], ['LP001622', 'N'], ['LP001627', 'N'], ['LP001650', 'Y'], ['LP001651', 'Y'], ['LP001652', 'N'], ['LP001655', 'N'], ['LP001660', 'N'], ['LP001662', 'N'], ['LP001663', 'Y'], ['LP001667', 'N'], ['LP001695', 'Y'], ['LP001703', 'Y'], ['LP001718', 'N'], ['LP001728', 'Y'], ['LP001735', 'N'], ['LP001737', 'N'], ['LP001739', 'N'], ['LP001742', 'Y'], ['LP001757', 'Y'], ['LP001769', 'Y'], ['LP001771', 'N'], ['LP001785', 'N'], ['LP001787', 'Y'], ['LP001789', 'N'], ['LP001791', 'N'], ['LP001794', 'N'], ['LP001797', 'N'], ['LP001815', 'N'], ['LP001817', 'N'], ['LP001818', 'Y'], ['LP001822', 'N'], ['LP001827', 'N'], ['LP001831', 'Y'], ['LP001842', 'N'], ['LP001853', 'N'], ['LP001855', 'Y'], ['LP001857', 'Y'], ['LP001862', 'Y'], ['LP001867', 'Y'], ['LP001878', 'Y'], ['LP001881', 'N'], ['LP001886', 'N'], ['LP001906', 'N'], ['LP001909', 'N'], ['LP001911', 'N'], ['LP001921', 'N'], ['LP001923', 'N'], ['LP001933', 'N'], ['LP001943', 'Y'], ['LP001950', 'N'], ['LP001959', 'N'], ['LP001961', 'N'], ['LP001973', 'Y'], ['LP001975', 'N'], ['LP001979', 'N'], ['LP001995', 'N'], ['LP001999', 'Y'], ['LP002007', 'Y'], ['LP002009', 'N'], ['LP002016', 'Y'], ['LP002017', 'N'], ['LP002018', 'Y'], ['LP002027', 'Y'], ['LP002028', 'Y'], ['LP002042', 'Y'], ['LP002045', 'Y'], ['LP002046', 'N'], ['LP002047', 'Y'], ['LP002056', 'Y'], ['LP002057', 'N'], ['LP002059', 'Y'], ['LP002062', 'N'], ['LP002064', 'N'], ['LP002069', 'N'], ['LP002070', 'N'], ['LP002077', 'Y'], ['LP002083', 'N'], ['LP002090', 'N'], ['LP002096', 'Y'], ['LP002099', 'N'], ['LP002102', 'Y'], ['LP002105', 'N'], ['LP002107', 'Y'], ['LP002111', 'N'], ['LP002117', 'Y'], ['LP002118', 'Y'], ['LP002123', 'Y'], ['LP002125', 'Y'], ['LP002148', 'Y'], ['LP002152', 'N'], ['LP002165', 'N'], ['LP002167', 'N'], ['LP002168', 'N'], ['LP002172', 'N'], ['LP002176', 'N'], ['LP002183', 'Y'], ['LP002184', 'Y'], ['LP002186', 'Y'], ['LP002192', 'Y'], ['LP002195', 'Y'], ['LP002208', 'Y'], ['LP002212', 'N'], ['LP002240', 'Y'], ['LP002245', 'Y'], ['LP002253', 'N'], ['LP002256', 'N'], ['LP002257', 'N'], ['LP002264', 'Y'], ['LP002270', 'Y'], ['LP002279', 'N'], ['LP002286', 'N'], ['LP002294', 'Y'], ['LP002298', 'N'], ['LP002306', 'Y'], ['LP002310', 'N'], ['LP002311', 'Y'], ['LP002316', 'N'], ['LP002321', 'N'], ['LP002325', 'Y'], ['LP002326', 'Y'], ['LP002329', 'N'], ['LP002333', 'N'], ['LP002339', 'N'], ['LP002344', 'Y'], ['LP002346', 'N'], ['LP002354', 'N'], ['LP002355', 'N'], ['LP002358', 'Y'], ['LP002360', 'N'], ['LP002375', 'N'], ['LP002376', 'N'], ['LP002383', 'N'], ['LP002385', 'N'], ['LP002389', 'N'], ['LP002394', 'Y'], ['LP002397', 'Y'], ['LP002399', 'N'], ['LP002400', 'N'], ['LP002402', 'Y'], ['LP002412', 'Y'], ['LP002415', 'N'], ['LP002417', 'Y'], ['LP002420', 'Y'], ['LP002425', 'N'], ['LP002433', 'N'], ['LP002440', 'Y'], ['LP002441', 'N'], ['LP002442', 'N'], ['LP002445', 'N'], ['LP002450', 'N'], ['LP002471', 'N'], ['LP002476', 'Y'], ['LP002482', 'N'], ['LP002485', 'N'], ['LP002495', 'N'], ['LP002496', 'N'], ['LP002523', 'Y'], ['LP002542', 'N'], ['LP002550', 'N'], ['LP002551', 'N'], ['LP002553', 'N'], ['LP002554', 'Y'], ['LP002561', 'N'], ['LP002566', 'N'], ['LP002568', 'N'], ['LP002570', 'Y'], ['LP002572', 'N'], ['LP002581', 'N'], ['LP002584', 'N'], ['LP002592', 'N'], ['LP002593', 'Y'], ['LP002599', 'Y'], ['LP002604', 'Y'], ['LP002605', 'N'], ['LP002609', 'N'], ['LP002610', 'Y'], ['LP002612', 'N'], ['LP002614', 'N'], ['LP002630', 'N'], ['LP002635', 'Y'], ['LP002639', 'Y'], ['LP002644', 'N'], ['LP002651', 'N'], ['LP002654', 'N'], ['LP002657', 'Y'], ['LP002711', 'Y'], ['LP002712', 'Y'], ['LP002721', 'N'], ['LP002735', 'Y'], ['LP002744', 'N'], ['LP002745', 'Y'], ['LP002746', 'N'], ['LP002747', 'N'], ['LP002754', 'N'], ['LP002759', 'Y'], ['LP002760', 'N'], ['LP002766', 'Y'], ['LP002769', 'N'], ['LP002774', 'N'], ['LP002775', 'N'], ['LP002781', 'N'], ['LP002782', 'Y'], ['LP002786', 'Y'], ['LP002790', 'N'], ['LP002791', 'Y'], ['LP002793', 'N'], ['LP002802', 'N'], ['LP002803', 'Y'], ['LP002805', 'Y'], ['LP002806', 'Y'], ['LP002816', 'Y'], ['LP002823', 'N'], ['LP002825', 'N'], ['LP002826', 'Y'], ['LP002843', 'N'], ['LP002849', 'Y'], ['LP002850', 'N'], ['LP002853', 'N'], ['LP002856', 'Y'], ['LP002857', 'Y'], ['LP002858', 'N'], ['LP002860', 'Y'], ['LP002867', 'N'], ['LP002869', 'N'], ['LP002870', 'N'], ['LP002876', 'N'], ['LP002878', 'N'], ['LP002879', 'N'], ['LP002885', 'N'], ['LP002890', 'Y'], ['LP002891', 'Y'], ['LP002899', 'Y'], ['LP002901', 'N'], ['LP002907', 'Y'], ['LP002920', 'Y'], ['LP002921', 'N'], ['LP002932', 'Y'], ['LP002935', 'Y'], ['LP002952', 'N'], ['LP002954', 'N'], ['LP002962', 'Y'], ['LP002965', 'N'], ['LP002969', 'Y'], ['LP002971', 'Y'], ['LP002975', 'Y'], ['LP002980', 'N'], ['LP002986', 'Y'], ['LP002989', 'N']]\n"
          ],
          "name": "stdout"
        }
      ]
    },
    {
      "cell_type": "markdown",
      "metadata": {
        "id": "Dqg0xHuJfy1h"
      },
      "source": [
        "### **2.RANDOM FOREST CLASSIFIER**"
      ]
    },
    {
      "cell_type": "code",
      "metadata": {
        "colab": {
          "base_uri": "https://localhost:8080/",
          "height": 516
        },
        "id": "-zSGUFIHI9ht",
        "outputId": "9199dc53-5171-43f0-ca0b-8f774fefc8e0"
      },
      "source": [
        "rfc = RandomForestClassifier(n_estimators = 100, max_depth =4, random_state=42, min_samples_split = 5, oob_score = True, n_jobs = -1, max_features = \"auto\",criterion = 'entropy', max_leaf_nodes = 30,class_weight='balanced_subsample',min_samples_leaf = 10)\n",
        "rfc.fit(x_train, y_train)\n",
        "y_pred_quant = rfc.predict_proba(x_test)[:, 1]\n",
        "y_preds = rfc.predict(x_test)\n",
        "rfc_ac=rfc.score(x_test, y_test)\n",
        "# evaluating the model\n",
        "print(\"Training Accuracy :\", rfc.score(x_train, y_train))\n",
        "print(\"Testing Accuracy :\", rfc_ac)\n",
        "\n",
        "\n",
        "\n",
        "# cofusion matrix\n",
        "cm = confusion_matrix(y_test, y_preds)\n",
        "plt.rcParams['figure.figsize'] = (5, 5)\n",
        "sns.heatmap(cm, annot = True, annot_kws = {'size':15}, cmap = 'PuBu', fmt='g')\n",
        "\n",
        "# classification report\n",
        "cr = classification_report(y_test, y_preds)\n",
        "print(cr)"
      ],
      "execution_count": null,
      "outputs": [
        {
          "output_type": "stream",
          "text": [
            "Training Accuracy : 0.8364611260053619\n",
            "Testing Accuracy : 0.74375\n",
            "              precision    recall  f1-score   support\n",
            "\n",
            "           0       0.62      0.43      0.51        49\n",
            "           1       0.78      0.88      0.83       111\n",
            "\n",
            "    accuracy                           0.74       160\n",
            "   macro avg       0.70      0.66      0.67       160\n",
            "weighted avg       0.73      0.74      0.73       160\n",
            "\n"
          ],
          "name": "stdout"
        },
        {
          "output_type": "display_data",
          "data": {
            "image/png": "[encoded data removed]",
            "text/plain": [
              "<Figure size 360x360 with 2 Axes>"
            ]
          },
          "metadata": {
            "tags": [],
            "needs_background": "light"
          }
        }
      ]
    },
    {
      "cell_type": "code",
      "metadata": {
        "colab": {
          "base_uri": "https://localhost:8080/"
        },
        "id": "_ADUVRJomMAb",
        "outputId": "ce969745-d42f-4079-9eac-83dd7df0d3ef"
      },
      "source": [
        "from sklearn.model_selection import RepeatedStratifiedKFold\n",
        "from sklearn.model_selection import cross_val_score\n",
        "\n",
        "cv = RepeatedStratifiedKFold(n_splits=10, n_repeats=3, random_state=1)\n",
        "# evaluate model\n",
        "scores = cross_val_score(rfc, x, y, scoring='roc_auc', cv=cv, n_jobs=-1)\n",
        "# summarize performance\n",
        "print('Mean ROC AUC: %.3f' % np.mean(scores))"
      ],
      "execution_count": null,
      "outputs": [
        {
          "output_type": "stream",
          "text": [
            "Mean ROC AUC: 0.754\n"
          ],
          "name": "stdout"
        }
      ]
    },
    {
      "cell_type": "code",
      "metadata": {
        "colab": {
          "base_uri": "https://localhost:8080/",
          "height": 399
        },
        "id": "Bn366g2vW0mU",
        "outputId": "1c21a45d-3137-4926-a06e-0ae51eaa7190"
      },
      "source": [
        "pred_actual =pd.DataFrame({'predicted':y_preds, 'actual': y_test})\n",
        "pred_actual"
      ],
      "execution_count": null,
      "outputs": [
        {
          "output_type": "execute_result",
          "data": {
            "text/html": [
              "<div>\n",
              "<style scoped>\n",
              "    .dataframe tbody tr th:only-of-type {\n",
              "        vertical-align: middle;\n",
              "    }\n",
              "\n",
              "    .dataframe tbody tr th {\n",
              "        vertical-align: top;\n",
              "    }\n",
              "\n",
              "    .dataframe thead th {\n",
              "        text-align: right;\n",
              "    }\n",
              "</style>\n",
              "<table border=\"1\" class=\"dataframe\">\n",
              "  <thead>\n",
              "    <tr style=\"text-align: right;\">\n",
              "      <th></th>\n",
              "      <th>predicted</th>\n",
              "      <th>actual</th>\n",
              "    </tr>\n",
              "  </thead>\n",
              "  <tbody>\n",
              "    <tr>\n",
              "      <th>6</th>\n",
              "      <td>1</td>\n",
              "      <td>1</td>\n",
              "    </tr>\n",
              "    <tr>\n",
              "      <th>559</th>\n",
              "      <td>1</td>\n",
              "      <td>1</td>\n",
              "    </tr>\n",
              "    <tr>\n",
              "      <th>116</th>\n",
              "      <td>1</td>\n",
              "      <td>1</td>\n",
              "    </tr>\n",
              "    <tr>\n",
              "      <th>556</th>\n",
              "      <td>0</td>\n",
              "      <td>1</td>\n",
              "    </tr>\n",
              "    <tr>\n",
              "      <th>510</th>\n",
              "      <td>1</td>\n",
              "      <td>0</td>\n",
              "    </tr>\n",
              "    <tr>\n",
              "      <th>...</th>\n",
              "      <td>...</td>\n",
              "      <td>...</td>\n",
              "    </tr>\n",
              "    <tr>\n",
              "      <th>125</th>\n",
              "      <td>1</td>\n",
              "      <td>1</td>\n",
              "    </tr>\n",
              "    <tr>\n",
              "      <th>194</th>\n",
              "      <td>1</td>\n",
              "      <td>1</td>\n",
              "    </tr>\n",
              "    <tr>\n",
              "      <th>270</th>\n",
              "      <td>0</td>\n",
              "      <td>1</td>\n",
              "    </tr>\n",
              "    <tr>\n",
              "      <th>451</th>\n",
              "      <td>1</td>\n",
              "      <td>1</td>\n",
              "    </tr>\n",
              "    <tr>\n",
              "      <th>62</th>\n",
              "      <td>0</td>\n",
              "      <td>0</td>\n",
              "    </tr>\n",
              "  </tbody>\n",
              "</table>\n",
              "<p>160 rows × 2 columns</p>\n",
              "</div>"
            ],
            "text/plain": [
              "     predicted  actual\n",
              "6            1       1\n",
              "559          1       1\n",
              "116          1       1\n",
              "556          0       1\n",
              "510          1       0\n",
              "..         ...     ...\n",
              "125          1       1\n",
              "194          1       1\n",
              "270          0       1\n",
              "451          1       1\n",
              "62           0       0\n",
              "\n",
              "[160 rows x 2 columns]"
            ]
          },
          "metadata": {
            "tags": []
          },
          "execution_count": 157
        }
      ]
    },
    {
      "cell_type": "code",
      "metadata": {
        "id": "_jdfL_iEJouM"
      },
      "source": [
        "predictions = rfc.predict(data_t.values)#.....test test file"
      ],
      "execution_count": null,
      "outputs": []
    },
    {
      "cell_type": "code",
      "metadata": {
        "id": "9_8_B_ciJy_I"
      },
      "source": [
        "submission2 = pd.DataFrame({\"Loan_ID\": Loan_ID, \"Loan_Status\": predictions})#make submission file"
      ],
      "execution_count": null,
      "outputs": []
    },
    {
      "cell_type": "code",
      "metadata": {
        "id": "g9IfJmmOf_yl"
      },
      "source": [
        "submission2[\"Loan_Status\"].replace((1, 0), (\"Y\", \"N\"), inplace=True)"
      ],
      "execution_count": null,
      "outputs": []
    },
    {
      "cell_type": "code",
      "metadata": {
        "id": "bKFEoFIGVtRq"
      },
      "source": [
        "submission2.to_csv('submission2.csv',index=False) "
      ],
      "execution_count": null,
      "outputs": []
    },
    {
      "cell_type": "code",
      "metadata": {
        "colab": {
          "base_uri": "https://localhost:8080/"
        },
        "id": "Xm1b9ztTgGP0",
        "outputId": "82859725-e022-4079-83d1-6828e0750063"
      },
      "source": [
        "import csv\n",
        "with open('/content/submission2.csv') as f:\n",
        "   reader = csv.reader(f)\n",
        "   submissionlist = list(reader)\n",
        "\n",
        "print (submissionlist)"
      ],
      "execution_count": null,
      "outputs": [
        {
          "output_type": "stream",
          "text": [
            "[['Loan_ID', 'Loan_Status'], ['LP001015', 'N'], ['LP001022', 'Y'], ['LP001031', 'Y'], ['LP001035', 'Y'], ['LP001051', 'N'], ['LP001054', 'Y'], ['LP001055', 'Y'], ['LP001056', 'N'], ['LP001059', 'Y'], ['LP001067', 'Y'], ['LP001078', 'N'], ['LP001082', 'Y'], ['LP001083', 'N'], ['LP001094', 'N'], ['LP001096', 'N'], ['LP001099', 'N'], ['LP001105', 'Y'], ['LP001107', 'Y'], ['LP001108', 'Y'], ['LP001115', 'Y'], ['LP001121', 'Y'], ['LP001124', 'N'], ['LP001128', 'N'], ['LP001135', 'N'], ['LP001149', 'Y'], ['LP001153', 'N'], ['LP001163', 'Y'], ['LP001169', 'Y'], ['LP001174', 'Y'], ['LP001176', 'N'], ['LP001177', 'Y'], ['LP001183', 'Y'], ['LP001185', 'Y'], ['LP001187', 'Y'], ['LP001190', 'Y'], ['LP001203', 'N'], ['LP001208', 'Y'], ['LP001210', 'Y'], ['LP001211', 'N'], ['LP001219', 'N'], ['LP001220', 'Y'], ['LP001221', 'N'], ['LP001226', 'Y'], ['LP001230', 'Y'], ['LP001231', 'N'], ['LP001232', 'Y'], ['LP001237', 'Y'], ['LP001242', 'Y'], ['LP001268', 'N'], ['LP001270', 'Y'], ['LP001284', 'Y'], ['LP001287', 'Y'], ['LP001291', 'Y'], ['LP001298', 'Y'], ['LP001312', 'N'], ['LP001313', 'N'], ['LP001317', 'N'], ['LP001321', 'Y'], ['LP001323', 'N'], ['LP001324', 'Y'], ['LP001332', 'Y'], ['LP001335', 'Y'], ['LP001338', 'Y'], ['LP001347', 'N'], ['LP001348', 'N'], ['LP001351', 'Y'], ['LP001352', 'N'], ['LP001358', 'N'], ['LP001359', 'Y'], ['LP001361', 'N'], ['LP001366', 'N'], ['LP001368', 'Y'], ['LP001375', 'Y'], ['LP001380', 'Y'], ['LP001386', 'Y'], ['LP001400', 'N'], ['LP001407', 'Y'], ['LP001413', 'N'], ['LP001415', 'Y'], ['LP001419', 'N'], ['LP001420', 'N'], ['LP001428', 'N'], ['LP001445', 'N'], ['LP001446', 'N'], ['LP001450', 'N'], ['LP001452', 'Y'], ['LP001455', 'Y'], ['LP001466', 'Y'], ['LP001471', 'Y'], ['LP001472', 'N'], ['LP001475', 'N'], ['LP001483', 'N'], ['LP001486', 'Y'], ['LP001490', 'Y'], ['LP001496', 'N'], ['LP001499', 'Y'], ['LP001500', 'Y'], ['LP001501', 'Y'], ['LP001517', 'N'], ['LP001527', 'Y'], ['LP001534', 'N'], ['LP001542', 'N'], ['LP001547', 'Y'], ['LP001548', 'Y'], ['LP001558', 'N'], ['LP001561', 'Y'], ['LP001563', 'N'], ['LP001567', 'N'], ['LP001568', 'Y'], ['LP001573', 'Y'], ['LP001584', 'N'], ['LP001587', 'Y'], ['LP001589', 'N'], ['LP001591', 'Y'], ['LP001599', 'Y'], ['LP001601', 'N'], ['LP001607', 'Y'], ['LP001611', 'N'], ['LP001613', 'N'], ['LP001622', 'N'], ['LP001627', 'N'], ['LP001650', 'Y'], ['LP001651', 'Y'], ['LP001652', 'N'], ['LP001655', 'N'], ['LP001660', 'Y'], ['LP001662', 'N'], ['LP001663', 'Y'], ['LP001667', 'N'], ['LP001695', 'Y'], ['LP001703', 'Y'], ['LP001718', 'N'], ['LP001728', 'Y'], ['LP001735', 'N'], ['LP001737', 'N'], ['LP001739', 'N'], ['LP001742', 'Y'], ['LP001757', 'Y'], ['LP001769', 'Y'], ['LP001771', 'N'], ['LP001785', 'N'], ['LP001787', 'Y'], ['LP001789', 'N'], ['LP001791', 'Y'], ['LP001794', 'Y'], ['LP001797', 'N'], ['LP001815', 'Y'], ['LP001817', 'N'], ['LP001818', 'Y'], ['LP001822', 'N'], ['LP001827', 'N'], ['LP001831', 'Y'], ['LP001842', 'N'], ['LP001853', 'N'], ['LP001855', 'Y'], ['LP001857', 'Y'], ['LP001862', 'Y'], ['LP001867', 'Y'], ['LP001878', 'Y'], ['LP001881', 'N'], ['LP001886', 'N'], ['LP001906', 'N'], ['LP001909', 'N'], ['LP001911', 'N'], ['LP001921', 'N'], ['LP001923', 'N'], ['LP001933', 'N'], ['LP001943', 'Y'], ['LP001950', 'N'], ['LP001959', 'N'], ['LP001961', 'N'], ['LP001973', 'Y'], ['LP001975', 'N'], ['LP001979', 'N'], ['LP001995', 'N'], ['LP001999', 'Y'], ['LP002007', 'Y'], ['LP002009', 'N'], ['LP002016', 'Y'], ['LP002017', 'N'], ['LP002018', 'Y'], ['LP002027', 'Y'], ['LP002028', 'Y'], ['LP002042', 'Y'], ['LP002045', 'Y'], ['LP002046', 'Y'], ['LP002047', 'Y'], ['LP002056', 'Y'], ['LP002057', 'N'], ['LP002059', 'Y'], ['LP002062', 'N'], ['LP002064', 'N'], ['LP002069', 'N'], ['LP002070', 'N'], ['LP002077', 'Y'], ['LP002083', 'N'], ['LP002090', 'N'], ['LP002096', 'Y'], ['LP002099', 'N'], ['LP002102', 'Y'], ['LP002105', 'N'], ['LP002107', 'Y'], ['LP002111', 'Y'], ['LP002117', 'Y'], ['LP002118', 'Y'], ['LP002123', 'Y'], ['LP002125', 'Y'], ['LP002148', 'Y'], ['LP002152', 'N'], ['LP002165', 'Y'], ['LP002167', 'N'], ['LP002168', 'N'], ['LP002172', 'Y'], ['LP002176', 'N'], ['LP002183', 'Y'], ['LP002184', 'Y'], ['LP002186', 'Y'], ['LP002192', 'Y'], ['LP002195', 'Y'], ['LP002208', 'Y'], ['LP002212', 'Y'], ['LP002240', 'Y'], ['LP002245', 'Y'], ['LP002253', 'N'], ['LP002256', 'N'], ['LP002257', 'N'], ['LP002264', 'Y'], ['LP002270', 'Y'], ['LP002279', 'N'], ['LP002286', 'N'], ['LP002294', 'Y'], ['LP002298', 'N'], ['LP002306', 'Y'], ['LP002310', 'Y'], ['LP002311', 'Y'], ['LP002316', 'N'], ['LP002321', 'N'], ['LP002325', 'Y'], ['LP002326', 'Y'], ['LP002329', 'N'], ['LP002333', 'N'], ['LP002339', 'N'], ['LP002344', 'Y'], ['LP002346', 'N'], ['LP002354', 'Y'], ['LP002355', 'N'], ['LP002358', 'Y'], ['LP002360', 'N'], ['LP002375', 'Y'], ['LP002376', 'N'], ['LP002383', 'N'], ['LP002385', 'Y'], ['LP002389', 'Y'], ['LP002394', 'Y'], ['LP002397', 'Y'], ['LP002399', 'N'], ['LP002400', 'N'], ['LP002402', 'Y'], ['LP002412', 'Y'], ['LP002415', 'N'], ['LP002417', 'Y'], ['LP002420', 'Y'], ['LP002425', 'N'], ['LP002433', 'N'], ['LP002440', 'Y'], ['LP002441', 'N'], ['LP002442', 'N'], ['LP002445', 'N'], ['LP002450', 'N'], ['LP002471', 'N'], ['LP002476', 'Y'], ['LP002482', 'N'], ['LP002485', 'Y'], ['LP002495', 'N'], ['LP002496', 'N'], ['LP002523', 'Y'], ['LP002542', 'N'], ['LP002550', 'N'], ['LP002551', 'N'], ['LP002553', 'Y'], ['LP002554', 'Y'], ['LP002561', 'N'], ['LP002566', 'N'], ['LP002568', 'N'], ['LP002570', 'Y'], ['LP002572', 'Y'], ['LP002581', 'N'], ['LP002584', 'N'], ['LP002592', 'N'], ['LP002593', 'Y'], ['LP002599', 'Y'], ['LP002604', 'Y'], ['LP002605', 'N'], ['LP002609', 'N'], ['LP002610', 'Y'], ['LP002612', 'Y'], ['LP002614', 'Y'], ['LP002630', 'N'], ['LP002635', 'Y'], ['LP002639', 'Y'], ['LP002644', 'Y'], ['LP002651', 'N'], ['LP002654', 'N'], ['LP002657', 'Y'], ['LP002711', 'Y'], ['LP002712', 'Y'], ['LP002721', 'Y'], ['LP002735', 'Y'], ['LP002744', 'N'], ['LP002745', 'Y'], ['LP002746', 'N'], ['LP002747', 'N'], ['LP002754', 'N'], ['LP002759', 'Y'], ['LP002760', 'N'], ['LP002766', 'Y'], ['LP002769', 'N'], ['LP002774', 'N'], ['LP002775', 'N'], ['LP002781', 'N'], ['LP002782', 'Y'], ['LP002786', 'Y'], ['LP002790', 'N'], ['LP002791', 'Y'], ['LP002793', 'N'], ['LP002802', 'N'], ['LP002803', 'Y'], ['LP002805', 'Y'], ['LP002806', 'Y'], ['LP002816', 'Y'], ['LP002823', 'N'], ['LP002825', 'N'], ['LP002826', 'Y'], ['LP002843', 'Y'], ['LP002849', 'Y'], ['LP002850', 'N'], ['LP002853', 'N'], ['LP002856', 'Y'], ['LP002857', 'Y'], ['LP002858', 'N'], ['LP002860', 'Y'], ['LP002867', 'N'], ['LP002869', 'N'], ['LP002870', 'Y'], ['LP002876', 'N'], ['LP002878', 'N'], ['LP002879', 'N'], ['LP002885', 'N'], ['LP002890', 'Y'], ['LP002891', 'Y'], ['LP002899', 'Y'], ['LP002901', 'N'], ['LP002907', 'Y'], ['LP002920', 'Y'], ['LP002921', 'N'], ['LP002932', 'Y'], ['LP002935', 'Y'], ['LP002952', 'N'], ['LP002954', 'Y'], ['LP002962', 'Y'], ['LP002965', 'Y'], ['LP002969', 'Y'], ['LP002971', 'Y'], ['LP002975', 'Y'], ['LP002980', 'N'], ['LP002986', 'Y'], ['LP002989', 'N']]\n"
          ],
          "name": "stdout"
        }
      ]
    },
    {
      "cell_type": "markdown",
      "metadata": {
        "id": "FIIfGG9P4Gb7"
      },
      "source": [
        "### **ADABOOST**"
      ]
    },
    {
      "cell_type": "code",
      "metadata": {
        "colab": {
          "base_uri": "https://localhost:8080/"
        },
        "id": "Va_PMlEz0zMW",
        "outputId": "e80c6ebb-b422-41a4-9408-425d16b04af2"
      },
      "source": [
        "\n",
        "from sklearn.tree import DecisionTreeClassifier\n",
        "ada = AdaBoostClassifier(DecisionTreeClassifier(max_depth=5, min_samples_split=8, min_samples_leaf=10),n_estimators=500, random_state=3, learning_rate=0.001)\n",
        "ada.fit(x_train,y_train)"
      ],
      "execution_count": null,
      "outputs": [
        {
          "output_type": "execute_result",
          "data": {
            "text/plain": [
              "AdaBoostClassifier(algorithm='SAMME.R',\n",
              "                   base_estimator=DecisionTreeClassifier(ccp_alpha=0.0,\n",
              "                                                         class_weight=None,\n",
              "                                                         criterion='gini',\n",
              "                                                         max_depth=5,\n",
              "                                                         max_features=None,\n",
              "                                                         max_leaf_nodes=None,\n",
              "                                                         min_impurity_decrease=0.0,\n",
              "                                                         min_impurity_split=None,\n",
              "                                                         min_samples_leaf=10,\n",
              "                                                         min_samples_split=8,\n",
              "                                                         min_weight_fraction_leaf=0.0,\n",
              "                                                         presort='deprecated',\n",
              "                                                         random_state=None,\n",
              "                                                         splitter='best'),\n",
              "                   learning_rate=0.001, n_estimators=500, random_state=3)"
            ]
          },
          "metadata": {
            "tags": []
          },
          "execution_count": 165
        }
      ]
    },
    {
      "cell_type": "code",
      "metadata": {
        "colab": {
          "base_uri": "https://localhost:8080/"
        },
        "id": "Z0gkK83yvJ6J",
        "outputId": "532e447a-c483-4603-c6bb-9e8add06e3e9"
      },
      "source": [
        "search.fit(x,y)\n",
        "search.best_params_"
      ],
      "execution_count": null,
      "outputs": [
        {
          "output_type": "execute_result",
          "data": {
            "text/plain": [
              "{'learning_rate': 0.001, 'n_estimators': 500}"
            ]
          },
          "metadata": {
            "tags": []
          },
          "execution_count": 168
        }
      ]
    },
    {
      "cell_type": "code",
      "metadata": {
        "id": "S-IPVm_muqgg"
      },
      "source": [
        "from sklearn.model_selection import GridSearchCV\n",
        "from sklearn.model_selection import cross_val_score\n",
        "search_grid={'n_estimators':[500,1000,2000],'learning_rate':[.001,0.01,.1]}\n",
        "search=GridSearchCV(estimator=ada,param_grid=search_grid,scoring='accuracy',n_jobs=1,cv=cv)"
      ],
      "execution_count": null,
      "outputs": []
    },
    {
      "cell_type": "code",
      "metadata": {
        "colab": {
          "base_uri": "https://localhost:8080/"
        },
        "id": "THyj69SdGt8t",
        "outputId": "080717c9-c866-486a-9548-bac71613a6ce"
      },
      "source": [
        "\n",
        "from numpy import mean\n",
        "from numpy import std\n",
        "cv = RepeatedStratifiedKFold(n_splits=10, n_repeats=3, random_state=1)\n",
        "n_scores = cross_val_score(ada, x, y, scoring='accuracy', cv=cv, n_jobs=-1, error_score='raise')\n",
        "# report performance\n",
        "print('Accuracy: %.3f (%.3f)' % (mean(n_scores), std(n_scores)))"
      ],
      "execution_count": null,
      "outputs": [
        {
          "output_type": "stream",
          "text": [
            "Accuracy: 0.811 (0.040)\n"
          ],
          "name": "stdout"
        }
      ]
    },
    {
      "cell_type": "code",
      "metadata": {
        "id": "FcA1nOy-1aC5",
        "colab": {
          "base_uri": "https://localhost:8080/"
        },
        "outputId": "41f7c7dd-bfe8-43e7-da37-1c207627f1fc"
      },
      "source": [
        "adapred = ada.predict(x_test)\n",
        "ada_ac=ada.score(x_test,y_test)\n",
        "\n",
        "# evaluating the model\n",
        "print (f'Train Accuracy - : {ada.score(x_train,y_train):.3f}')\n",
        "print (f'Test Accuracy - : {ada.score(x_test,y_test):.3f}')"
      ],
      "execution_count": null,
      "outputs": [
        {
          "output_type": "stream",
          "text": [
            "Train Accuracy - : 0.853\n",
            "Test Accuracy - : 0.794\n"
          ],
          "name": "stdout"
        }
      ]
    },
    {
      "cell_type": "code",
      "metadata": {
        "colab": {
          "base_uri": "https://localhost:8080/"
        },
        "id": "l81s6LcT1jsp",
        "outputId": "b1592f1d-539b-4d50-e8a9-1504c71b9f9d"
      },
      "source": [
        "from sklearn.metrics import classification_report\n",
        "print(classification_report(y_test,adapred))"
      ],
      "execution_count": null,
      "outputs": [
        {
          "output_type": "stream",
          "text": [
            "              precision    recall  f1-score   support\n",
            "\n",
            "           0       0.94      0.35      0.51        49\n",
            "           1       0.77      0.99      0.87       111\n",
            "\n",
            "    accuracy                           0.79       160\n",
            "   macro avg       0.86      0.67      0.69       160\n",
            "weighted avg       0.83      0.79      0.76       160\n",
            "\n"
          ],
          "name": "stdout"
        }
      ]
    },
    {
      "cell_type": "code",
      "metadata": {
        "colab": {
          "base_uri": "https://localhost:8080/",
          "height": 338
        },
        "id": "VQ0pyKXe2HxD",
        "outputId": "5053b5ac-e8e4-4b79-9cae-d79a1f47342b"
      },
      "source": [
        "# cofusion matrix\n",
        "cm = confusion_matrix(y_test, adapred)\n",
        "plt.rcParams['figure.figsize'] = (5, 5)\n",
        "sns.heatmap(cm, annot = True, annot_kws = {'size':15}, cmap = 'PuBu', fmt='g')"
      ],
      "execution_count": null,
      "outputs": [
        {
          "output_type": "execute_result",
          "data": {
            "text/plain": [
              "<matplotlib.axes._subplots.AxesSubplot at 0x7fd592bcc908>"
            ]
          },
          "metadata": {
            "tags": []
          },
          "execution_count": 172
        },
        {
          "output_type": "display_data",
          "data": {
            "image/png": "[encoded data removed]",
            "text/plain": [
              "<Figure size 360x360 with 2 Axes>"
            ]
          },
          "metadata": {
            "tags": [],
            "needs_background": "light"
          }
        }
      ]
    },
    {
      "cell_type": "code",
      "metadata": {
        "colab": {
          "base_uri": "https://localhost:8080/",
          "height": 399
        },
        "id": "FcNMtMSs4EA6",
        "outputId": "33579efe-e45d-42ff-c667-25559a534dfc"
      },
      "source": [
        "pred_actual =pd.DataFrame({'predicted':preds, 'actual': y_test})\n",
        "pred_actual"
      ],
      "execution_count": null,
      "outputs": [
        {
          "output_type": "execute_result",
          "data": {
            "text/html": [
              "<div>\n",
              "<style scoped>\n",
              "    .dataframe tbody tr th:only-of-type {\n",
              "        vertical-align: middle;\n",
              "    }\n",
              "\n",
              "    .dataframe tbody tr th {\n",
              "        vertical-align: top;\n",
              "    }\n",
              "\n",
              "    .dataframe thead th {\n",
              "        text-align: right;\n",
              "    }\n",
              "</style>\n",
              "<table border=\"1\" class=\"dataframe\">\n",
              "  <thead>\n",
              "    <tr style=\"text-align: right;\">\n",
              "      <th></th>\n",
              "      <th>predicted</th>\n",
              "      <th>actual</th>\n",
              "    </tr>\n",
              "  </thead>\n",
              "  <tbody>\n",
              "    <tr>\n",
              "      <th>6</th>\n",
              "      <td>1</td>\n",
              "      <td>1</td>\n",
              "    </tr>\n",
              "    <tr>\n",
              "      <th>559</th>\n",
              "      <td>1</td>\n",
              "      <td>1</td>\n",
              "    </tr>\n",
              "    <tr>\n",
              "      <th>116</th>\n",
              "      <td>1</td>\n",
              "      <td>1</td>\n",
              "    </tr>\n",
              "    <tr>\n",
              "      <th>556</th>\n",
              "      <td>1</td>\n",
              "      <td>1</td>\n",
              "    </tr>\n",
              "    <tr>\n",
              "      <th>510</th>\n",
              "      <td>1</td>\n",
              "      <td>0</td>\n",
              "    </tr>\n",
              "    <tr>\n",
              "      <th>...</th>\n",
              "      <td>...</td>\n",
              "      <td>...</td>\n",
              "    </tr>\n",
              "    <tr>\n",
              "      <th>125</th>\n",
              "      <td>1</td>\n",
              "      <td>1</td>\n",
              "    </tr>\n",
              "    <tr>\n",
              "      <th>194</th>\n",
              "      <td>1</td>\n",
              "      <td>1</td>\n",
              "    </tr>\n",
              "    <tr>\n",
              "      <th>270</th>\n",
              "      <td>1</td>\n",
              "      <td>1</td>\n",
              "    </tr>\n",
              "    <tr>\n",
              "      <th>451</th>\n",
              "      <td>1</td>\n",
              "      <td>1</td>\n",
              "    </tr>\n",
              "    <tr>\n",
              "      <th>62</th>\n",
              "      <td>0</td>\n",
              "      <td>0</td>\n",
              "    </tr>\n",
              "  </tbody>\n",
              "</table>\n",
              "<p>160 rows × 2 columns</p>\n",
              "</div>"
            ],
            "text/plain": [
              "     predicted  actual\n",
              "6            1       1\n",
              "559          1       1\n",
              "116          1       1\n",
              "556          1       1\n",
              "510          1       0\n",
              "..         ...     ...\n",
              "125          1       1\n",
              "194          1       1\n",
              "270          1       1\n",
              "451          1       1\n",
              "62           0       0\n",
              "\n",
              "[160 rows x 2 columns]"
            ]
          },
          "metadata": {
            "tags": []
          },
          "execution_count": 173
        }
      ]
    },
    {
      "cell_type": "code",
      "metadata": {
        "id": "P_qWffZ9x0Mg"
      },
      "source": [
        "predict = ada.predict(data_t.values)"
      ],
      "execution_count": null,
      "outputs": []
    },
    {
      "cell_type": "code",
      "metadata": {
        "id": "K7VggAVAx8Ri"
      },
      "source": [
        "submission3 = pd.DataFrame({\"Loan_ID\": Loan_ID, \"Loan_Status\": predict})#make submission file"
      ],
      "execution_count": null,
      "outputs": []
    },
    {
      "cell_type": "code",
      "metadata": {
        "id": "Mzd0gGvnyDnU"
      },
      "source": [
        "submission3[\"Loan_Status\"].replace((1, 0), (\"Y\", \"N\"), inplace=True)"
      ],
      "execution_count": null,
      "outputs": []
    },
    {
      "cell_type": "code",
      "metadata": {
        "id": "lgpsSWphyFfQ"
      },
      "source": [
        "submission3.to_csv('submission3.csv',index=False) "
      ],
      "execution_count": null,
      "outputs": []
    },
    {
      "cell_type": "code",
      "metadata": {
        "colab": {
          "base_uri": "https://localhost:8080/"
        },
        "id": "Psy6rPxByLh3",
        "outputId": "dbccc30c-1d43-4c32-d7ef-8b3ad437b0c7"
      },
      "source": [
        "import csv\n",
        "with open('/content/submission3.csv') as f:\n",
        "   reader = csv.reader(f)\n",
        "   submissionada = list(reader)\n",
        "\n",
        "print (submissionada)"
      ],
      "execution_count": null,
      "outputs": [
        {
          "output_type": "stream",
          "text": [
            "[['Loan_ID', 'Loan_Status'], ['LP001015', 'N'], ['LP001022', 'Y'], ['LP001031', 'Y'], ['LP001035', 'Y'], ['LP001051', 'N'], ['LP001054', 'Y'], ['LP001055', 'N'], ['LP001056', 'N'], ['LP001059', 'N'], ['LP001067', 'N'], ['LP001078', 'N'], ['LP001082', 'Y'], ['LP001083', 'N'], ['LP001094', 'N'], ['LP001096', 'N'], ['LP001099', 'N'], ['LP001105', 'Y'], ['LP001107', 'Y'], ['LP001108', 'Y'], ['LP001115', 'N'], ['LP001121', 'Y'], ['LP001124', 'N'], ['LP001128', 'N'], ['LP001135', 'N'], ['LP001149', 'Y'], ['LP001153', 'N'], ['LP001163', 'Y'], ['LP001169', 'Y'], ['LP001174', 'Y'], ['LP001176', 'N'], ['LP001177', 'N'], ['LP001183', 'Y'], ['LP001185', 'N'], ['LP001187', 'Y'], ['LP001190', 'Y'], ['LP001203', 'N'], ['LP001208', 'Y'], ['LP001210', 'Y'], ['LP001211', 'N'], ['LP001219', 'N'], ['LP001220', 'Y'], ['LP001221', 'N'], ['LP001226', 'Y'], ['LP001230', 'N'], ['LP001231', 'N'], ['LP001232', 'Y'], ['LP001237', 'Y'], ['LP001242', 'N'], ['LP001268', 'N'], ['LP001270', 'Y'], ['LP001284', 'Y'], ['LP001287', 'Y'], ['LP001291', 'Y'], ['LP001298', 'Y'], ['LP001312', 'N'], ['LP001313', 'N'], ['LP001317', 'N'], ['LP001321', 'Y'], ['LP001323', 'N'], ['LP001324', 'N'], ['LP001332', 'Y'], ['LP001335', 'Y'], ['LP001338', 'N'], ['LP001347', 'N'], ['LP001348', 'N'], ['LP001351', 'Y'], ['LP001352', 'N'], ['LP001358', 'N'], ['LP001359', 'N'], ['LP001361', 'N'], ['LP001366', 'N'], ['LP001368', 'N'], ['LP001375', 'Y'], ['LP001380', 'Y'], ['LP001386', 'Y'], ['LP001400', 'N'], ['LP001407', 'Y'], ['LP001413', 'N'], ['LP001415', 'Y'], ['LP001419', 'N'], ['LP001420', 'N'], ['LP001428', 'N'], ['LP001445', 'N'], ['LP001446', 'N'], ['LP001450', 'N'], ['LP001452', 'Y'], ['LP001455', 'Y'], ['LP001466', 'N'], ['LP001471', 'N'], ['LP001472', 'N'], ['LP001475', 'Y'], ['LP001483', 'N'], ['LP001486', 'Y'], ['LP001490', 'Y'], ['LP001496', 'N'], ['LP001499', 'N'], ['LP001500', 'Y'], ['LP001501', 'Y'], ['LP001517', 'N'], ['LP001527', 'N'], ['LP001534', 'N'], ['LP001542', 'N'], ['LP001547', 'N'], ['LP001548', 'N'], ['LP001558', 'N'], ['LP001561', 'Y'], ['LP001563', 'N'], ['LP001567', 'N'], ['LP001568', 'N'], ['LP001573', 'Y'], ['LP001584', 'N'], ['LP001587', 'N'], ['LP001589', 'N'], ['LP001591', 'Y'], ['LP001599', 'Y'], ['LP001601', 'N'], ['LP001607', 'Y'], ['LP001611', 'N'], ['LP001613', 'N'], ['LP001622', 'N'], ['LP001627', 'N'], ['LP001650', 'Y'], ['LP001651', 'Y'], ['LP001652', 'N'], ['LP001655', 'N'], ['LP001660', 'N'], ['LP001662', 'N'], ['LP001663', 'N'], ['LP001667', 'N'], ['LP001695', 'Y'], ['LP001703', 'Y'], ['LP001718', 'N'], ['LP001728', 'Y'], ['LP001735', 'N'], ['LP001737', 'N'], ['LP001739', 'N'], ['LP001742', 'N'], ['LP001757', 'Y'], ['LP001769', 'N'], ['LP001771', 'N'], ['LP001785', 'N'], ['LP001787', 'Y'], ['LP001789', 'N'], ['LP001791', 'N'], ['LP001794', 'N'], ['LP001797', 'N'], ['LP001815', 'N'], ['LP001817', 'N'], ['LP001818', 'Y'], ['LP001822', 'N'], ['LP001827', 'N'], ['LP001831', 'Y'], ['LP001842', 'N'], ['LP001853', 'N'], ['LP001855', 'N'], ['LP001857', 'N'], ['LP001862', 'Y'], ['LP001867', 'Y'], ['LP001878', 'N'], ['LP001881', 'N'], ['LP001886', 'N'], ['LP001906', 'N'], ['LP001909', 'N'], ['LP001911', 'N'], ['LP001921', 'N'], ['LP001923', 'N'], ['LP001933', 'N'], ['LP001943', 'Y'], ['LP001950', 'N'], ['LP001959', 'N'], ['LP001961', 'N'], ['LP001973', 'N'], ['LP001975', 'N'], ['LP001979', 'N'], ['LP001995', 'N'], ['LP001999', 'Y'], ['LP002007', 'Y'], ['LP002009', 'N'], ['LP002016', 'N'], ['LP002017', 'N'], ['LP002018', 'Y'], ['LP002027', 'Y'], ['LP002028', 'N'], ['LP002042', 'Y'], ['LP002045', 'Y'], ['LP002046', 'N'], ['LP002047', 'Y'], ['LP002056', 'Y'], ['LP002057', 'N'], ['LP002059', 'Y'], ['LP002062', 'N'], ['LP002064', 'N'], ['LP002069', 'N'], ['LP002070', 'N'], ['LP002077', 'Y'], ['LP002083', 'N'], ['LP002090', 'N'], ['LP002096', 'Y'], ['LP002099', 'N'], ['LP002102', 'Y'], ['LP002105', 'N'], ['LP002107', 'Y'], ['LP002111', 'Y'], ['LP002117', 'Y'], ['LP002118', 'N'], ['LP002123', 'Y'], ['LP002125', 'Y'], ['LP002148', 'Y'], ['LP002152', 'N'], ['LP002165', 'N'], ['LP002167', 'N'], ['LP002168', 'N'], ['LP002172', 'N'], ['LP002176', 'N'], ['LP002183', 'Y'], ['LP002184', 'Y'], ['LP002186', 'Y'], ['LP002192', 'Y'], ['LP002195', 'Y'], ['LP002208', 'Y'], ['LP002212', 'Y'], ['LP002240', 'Y'], ['LP002245', 'N'], ['LP002253', 'N'], ['LP002256', 'N'], ['LP002257', 'N'], ['LP002264', 'Y'], ['LP002270', 'Y'], ['LP002279', 'N'], ['LP002286', 'N'], ['LP002294', 'N'], ['LP002298', 'N'], ['LP002306', 'Y'], ['LP002310', 'N'], ['LP002311', 'Y'], ['LP002316', 'N'], ['LP002321', 'N'], ['LP002325', 'Y'], ['LP002326', 'Y'], ['LP002329', 'N'], ['LP002333', 'N'], ['LP002339', 'N'], ['LP002344', 'Y'], ['LP002346', 'N'], ['LP002354', 'N'], ['LP002355', 'N'], ['LP002358', 'Y'], ['LP002360', 'N'], ['LP002375', 'N'], ['LP002376', 'N'], ['LP002383', 'N'], ['LP002385', 'N'], ['LP002389', 'N'], ['LP002394', 'Y'], ['LP002397', 'Y'], ['LP002399', 'N'], ['LP002400', 'N'], ['LP002402', 'Y'], ['LP002412', 'Y'], ['LP002415', 'N'], ['LP002417', 'Y'], ['LP002420', 'Y'], ['LP002425', 'N'], ['LP002433', 'N'], ['LP002440', 'Y'], ['LP002441', 'N'], ['LP002442', 'N'], ['LP002445', 'N'], ['LP002450', 'N'], ['LP002471', 'N'], ['LP002476', 'Y'], ['LP002482', 'N'], ['LP002485', 'N'], ['LP002495', 'N'], ['LP002496', 'N'], ['LP002523', 'Y'], ['LP002542', 'N'], ['LP002550', 'N'], ['LP002551', 'N'], ['LP002553', 'N'], ['LP002554', 'N'], ['LP002561', 'N'], ['LP002566', 'N'], ['LP002568', 'N'], ['LP002570', 'Y'], ['LP002572', 'N'], ['LP002581', 'Y'], ['LP002584', 'N'], ['LP002592', 'N'], ['LP002593', 'Y'], ['LP002599', 'Y'], ['LP002604', 'Y'], ['LP002605', 'N'], ['LP002609', 'N'], ['LP002610', 'Y'], ['LP002612', 'N'], ['LP002614', 'N'], ['LP002630', 'N'], ['LP002635', 'Y'], ['LP002639', 'N'], ['LP002644', 'N'], ['LP002651', 'N'], ['LP002654', 'N'], ['LP002657', 'Y'], ['LP002711', 'Y'], ['LP002712', 'N'], ['LP002721', 'N'], ['LP002735', 'N'], ['LP002744', 'N'], ['LP002745', 'Y'], ['LP002746', 'N'], ['LP002747', 'N'], ['LP002754', 'N'], ['LP002759', 'N'], ['LP002760', 'N'], ['LP002766', 'Y'], ['LP002769', 'N'], ['LP002774', 'N'], ['LP002775', 'N'], ['LP002781', 'N'], ['LP002782', 'Y'], ['LP002786', 'Y'], ['LP002790', 'N'], ['LP002791', 'N'], ['LP002793', 'N'], ['LP002802', 'N'], ['LP002803', 'Y'], ['LP002805', 'Y'], ['LP002806', 'Y'], ['LP002816', 'Y'], ['LP002823', 'N'], ['LP002825', 'N'], ['LP002826', 'Y'], ['LP002843', 'N'], ['LP002849', 'Y'], ['LP002850', 'N'], ['LP002853', 'N'], ['LP002856', 'Y'], ['LP002857', 'Y'], ['LP002858', 'N'], ['LP002860', 'Y'], ['LP002867', 'N'], ['LP002869', 'N'], ['LP002870', 'N'], ['LP002876', 'N'], ['LP002878', 'N'], ['LP002879', 'N'], ['LP002885', 'N'], ['LP002890', 'Y'], ['LP002891', 'Y'], ['LP002899', 'N'], ['LP002901', 'N'], ['LP002907', 'Y'], ['LP002920', 'Y'], ['LP002921', 'N'], ['LP002932', 'Y'], ['LP002935', 'Y'], ['LP002952', 'N'], ['LP002954', 'N'], ['LP002962', 'N'], ['LP002965', 'Y'], ['LP002969', 'Y'], ['LP002971', 'Y'], ['LP002975', 'Y'], ['LP002980', 'N'], ['LP002986', 'Y'], ['LP002989', 'N']]\n"
          ],
          "name": "stdout"
        }
      ]
    },
    {
      "cell_type": "code",
      "metadata": {
        "colab": {
          "base_uri": "https://localhost:8080/",
          "height": 445
        },
        "id": "TXX3wKfpJv4f",
        "outputId": "8dbb357e-fa87-4095-f0a3-dcc803e20a4b"
      },
      "source": [
        "names=[]\n",
        "names.append('XGBOOST')\n",
        "names.append('RANDOM FOREST ')\n",
        "names.append('ADABOOST')\n",
        "results=[]\n",
        "results.append(xgb_ac)\n",
        "results.append(rfc_ac)\n",
        "results.append(ada_ac)\n",
        "\n",
        "plt.rcParams['figure.figsize'] = (15, 7)\n",
        "plt.style.use('bmh') #style\n",
        "plt.barh(names,results)\n",
        "plt.title(\"Accuracy Comparison\",  weight='bold', size=18)\n",
        "sns.set_context('poster') #everything is larger..for smaller use paper, for presentation use talk\n",
        "plt.Xlabel=results\n",
        "plt.ylabel=names \n",
        "plt.show()"
      ],
      "execution_count": null,
      "outputs": [
        {
          "output_type": "display_data",
          "data": {
            "image/png": "[encoded data removed]",
            "text/plain": [
              "<Figure size 1080x504 with 1 Axes>"
            ]
          },
          "metadata": {
            "tags": [],
            "needs_background": "light"
          }
        }
      ]
    },
    {
      "cell_type": "code",
      "metadata": {
        "id": "RRQ5uWkrKOM2"
      },
      "source": [
        "pickle.dump(xgb,open ('xgbmodel.pkl','wb'))"
      ],
      "execution_count": null,
      "outputs": []
    },
    {
      "cell_type": "code",
      "metadata": {
        "colab": {
          "base_uri": "https://localhost:8080/"
        },
        "id": "wTUfGS6BKPAP",
        "outputId": "0c9b80b7-b71d-4ef2-ae8f-365dd5f70b88"
      },
      "source": [
        "model=pickle.load(open ('xgbmodel.pkl','rb'))\n",
        "model"
      ],
      "execution_count": null,
      "outputs": [
        {
          "output_type": "execute_result",
          "data": {
            "text/plain": [
              "XGBClassifier(base_score=0.5, booster='gbtree', colsample_bylevel=1,\n",
              "              colsample_bynode=1, colsample_bytree=0.3, gamma=1,\n",
              "              learning_rate=0.05, max_delta_step=0, max_depth=4,\n",
              "              min_child_weight=1, missing=nan, n_estimators=300, n_jobs=1,\n",
              "              nthread=None, objective='binary:logistic', random_state=1,\n",
              "              reg_alpha=0, reg_lambda=2, scale_pos_weight=1, seed=None,\n",
              "              silent=None, subsample=0.8, verbosity=1)"
            ]
          },
          "metadata": {
            "tags": []
          },
          "execution_count": 183
        }
      ]
    },
    {
      "cell_type": "code",
      "metadata": {
        "colab": {
          "base_uri": "https://localhost:8080/"
        },
        "id": "PWyyaoHSR4iH",
        "outputId": "790422c0-7605-439b-81aa-8a6cb570076f"
      },
      "source": [
        "result = model.score(x_test, y_test)\n",
        "print(result)"
      ],
      "execution_count": null,
      "outputs": [
        {
          "output_type": "stream",
          "text": [
            "0.80625\n"
          ],
          "name": "stdout"
        }
      ]
    }
  ]
}